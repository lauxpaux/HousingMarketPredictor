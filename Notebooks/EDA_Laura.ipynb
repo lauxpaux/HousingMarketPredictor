{
 "cells": [
  {
   "cell_type": "markdown",
   "id": "8fde482e-3c25-4758-91b9-48221d21d9ac",
   "metadata": {},
   "source": [
    "## Predicting Home Prices in Connecticut"
   ]
  },
  {
   "cell_type": "markdown",
   "id": "bbb9a8dd-6706-4f12-8b7b-679750a7505b",
   "metadata": {},
   "source": [
    "In this project, we will be performing varies predictive modeling techniques to predict the 'Sale Amount' of homes in Connecticut in the future. \n",
    "\n",
    "We will train and analyze several predictive models for this task, including but not limited to:\n",
    "* Linear Regression (Regression)\n",
    "* Time Series (Forecasting)\n",
    "* Neural Networks (Deep Learning)"
   ]
  },
  {
   "cell_type": "markdown",
   "id": "7280d03b-9509-48c4-aca6-d85a45ac3130",
   "metadata": {},
   "source": [
    "### Motivation:\n",
    "\n",
    "The uncertainty of the housing market is a major point of concern for the millennial and younger generations. Housing market prices are well above affordable levels for most people, with homes selling at much higher Sales Ratio than in the past. We are curious to see if trends can be found in this longitudinal data, which encompasses nearly 20 years of sale prices. This data was particularly of interest because it captures the previous  most recent housing market crash of 2008. We aim to teach our models the fluctuations between home prices and produce predictive outcomes for where the future of the housing market is headed based on the historical trends found. "
   ]
  },
  {
   "cell_type": "markdown",
   "id": "5592e774-f128-472b-ba9f-1dcbed3ebdfa",
   "metadata": {},
   "source": [
    "### The Data:"
   ]
  },
  {
   "cell_type": "markdown",
   "id": "02c76e6a-3f24-4524-814e-5947f180e330",
   "metadata": {},
   "source": [
    "The data used in this project was sourced from the state of Connecticut via \n",
    "(data.ct.gov)['https://catalog.data.gov/dataset/real-estate-sales-2001-2018']. The data is free and open for public use. It contains Real Estate sells from 2001-2021."
   ]
  },
  {
   "cell_type": "code",
   "execution_count": 1,
   "id": "3d4caf8e-562d-4bb6-90b0-243d4d994eef",
   "metadata": {},
   "outputs": [],
   "source": [
    "import pandas as pd\n",
    "import numpy as np\n",
    "import matplotlib as plt\n",
    "import seaborn as sns\n",
    "\n",
    "import warnings\n",
    "warnings.filterwarnings(\"ignore\")"
   ]
  },
  {
   "cell_type": "code",
   "execution_count": 2,
   "id": "8e17492b-ecf9-4734-90f0-1ea77a607f39",
   "metadata": {},
   "outputs": [],
   "source": [
    "df = pd.read_csv('data/Real_Estate_Sales_2001-2021_GL.csv')"
   ]
  },
  {
   "cell_type": "markdown",
   "id": "0cdd3f65-8614-49ee-9708-1749f9b8b349",
   "metadata": {},
   "source": [
    "### Data Peeking:"
   ]
  },
  {
   "cell_type": "code",
   "execution_count": 3,
   "id": "7f9eacd4-b510-41e4-9267-319811d02295",
   "metadata": {},
   "outputs": [
    {
     "data": {
      "text/html": [
       "<div>\n",
       "<style scoped>\n",
       "    .dataframe tbody tr th:only-of-type {\n",
       "        vertical-align: middle;\n",
       "    }\n",
       "\n",
       "    .dataframe tbody tr th {\n",
       "        vertical-align: top;\n",
       "    }\n",
       "\n",
       "    .dataframe thead th {\n",
       "        text-align: right;\n",
       "    }\n",
       "</style>\n",
       "<table border=\"1\" class=\"dataframe\">\n",
       "  <thead>\n",
       "    <tr style=\"text-align: right;\">\n",
       "      <th></th>\n",
       "      <th>Serial Number</th>\n",
       "      <th>List Year</th>\n",
       "      <th>Date Recorded</th>\n",
       "      <th>Town</th>\n",
       "      <th>Address</th>\n",
       "      <th>Assessed Value</th>\n",
       "      <th>Sale Amount</th>\n",
       "      <th>Sales Ratio</th>\n",
       "      <th>Property Type</th>\n",
       "      <th>Residential Type</th>\n",
       "      <th>Non Use Code</th>\n",
       "      <th>Assessor Remarks</th>\n",
       "      <th>OPM remarks</th>\n",
       "      <th>Location</th>\n",
       "    </tr>\n",
       "  </thead>\n",
       "  <tbody>\n",
       "    <tr>\n",
       "      <th>0</th>\n",
       "      <td>2020348</td>\n",
       "      <td>2020</td>\n",
       "      <td>09/13/2021</td>\n",
       "      <td>Ansonia</td>\n",
       "      <td>230 WAKELEE AVE</td>\n",
       "      <td>150500.0</td>\n",
       "      <td>325000.0</td>\n",
       "      <td>0.4630</td>\n",
       "      <td>Commercial</td>\n",
       "      <td>NaN</td>\n",
       "      <td>NaN</td>\n",
       "      <td>NaN</td>\n",
       "      <td>NaN</td>\n",
       "      <td>NaN</td>\n",
       "    </tr>\n",
       "    <tr>\n",
       "      <th>1</th>\n",
       "      <td>20002</td>\n",
       "      <td>2020</td>\n",
       "      <td>10/02/2020</td>\n",
       "      <td>Ashford</td>\n",
       "      <td>390 TURNPIKE RD</td>\n",
       "      <td>253000.0</td>\n",
       "      <td>430000.0</td>\n",
       "      <td>0.5883</td>\n",
       "      <td>Residential</td>\n",
       "      <td>Single Family</td>\n",
       "      <td>NaN</td>\n",
       "      <td>NaN</td>\n",
       "      <td>NaN</td>\n",
       "      <td>NaN</td>\n",
       "    </tr>\n",
       "    <tr>\n",
       "      <th>2</th>\n",
       "      <td>210317</td>\n",
       "      <td>2021</td>\n",
       "      <td>07/05/2022</td>\n",
       "      <td>Avon</td>\n",
       "      <td>53 COTSWOLD WAY</td>\n",
       "      <td>329730.0</td>\n",
       "      <td>805000.0</td>\n",
       "      <td>0.4096</td>\n",
       "      <td>Residential</td>\n",
       "      <td>Single Family</td>\n",
       "      <td>NaN</td>\n",
       "      <td>NaN</td>\n",
       "      <td>NaN</td>\n",
       "      <td>POINT (-72.846365959 41.781677018)</td>\n",
       "    </tr>\n",
       "    <tr>\n",
       "      <th>3</th>\n",
       "      <td>200212</td>\n",
       "      <td>2020</td>\n",
       "      <td>03/09/2021</td>\n",
       "      <td>Avon</td>\n",
       "      <td>5 CHESTNUT DRIVE</td>\n",
       "      <td>130400.0</td>\n",
       "      <td>179900.0</td>\n",
       "      <td>0.7248</td>\n",
       "      <td>Residential</td>\n",
       "      <td>Condo</td>\n",
       "      <td>NaN</td>\n",
       "      <td>NaN</td>\n",
       "      <td>NaN</td>\n",
       "      <td>NaN</td>\n",
       "    </tr>\n",
       "    <tr>\n",
       "      <th>4</th>\n",
       "      <td>200243</td>\n",
       "      <td>2020</td>\n",
       "      <td>04/13/2021</td>\n",
       "      <td>Avon</td>\n",
       "      <td>111 NORTHINGTON DRIVE</td>\n",
       "      <td>619290.0</td>\n",
       "      <td>890000.0</td>\n",
       "      <td>0.6958</td>\n",
       "      <td>Residential</td>\n",
       "      <td>Single Family</td>\n",
       "      <td>NaN</td>\n",
       "      <td>NaN</td>\n",
       "      <td>NaN</td>\n",
       "      <td>NaN</td>\n",
       "    </tr>\n",
       "  </tbody>\n",
       "</table>\n",
       "</div>"
      ],
      "text/plain": [
       "   Serial Number  List Year Date Recorded     Town                Address  \\\n",
       "0        2020348       2020    09/13/2021  Ansonia        230 WAKELEE AVE   \n",
       "1          20002       2020    10/02/2020  Ashford        390 TURNPIKE RD   \n",
       "2         210317       2021    07/05/2022     Avon        53 COTSWOLD WAY   \n",
       "3         200212       2020    03/09/2021     Avon       5 CHESTNUT DRIVE   \n",
       "4         200243       2020    04/13/2021     Avon  111 NORTHINGTON DRIVE   \n",
       "\n",
       "   Assessed Value  Sale Amount  Sales Ratio Property Type Residential Type  \\\n",
       "0        150500.0     325000.0       0.4630    Commercial              NaN   \n",
       "1        253000.0     430000.0       0.5883   Residential    Single Family   \n",
       "2        329730.0     805000.0       0.4096   Residential    Single Family   \n",
       "3        130400.0     179900.0       0.7248   Residential            Condo   \n",
       "4        619290.0     890000.0       0.6958   Residential    Single Family   \n",
       "\n",
       "  Non Use Code Assessor Remarks OPM remarks  \\\n",
       "0          NaN              NaN         NaN   \n",
       "1          NaN              NaN         NaN   \n",
       "2          NaN              NaN         NaN   \n",
       "3          NaN              NaN         NaN   \n",
       "4          NaN              NaN         NaN   \n",
       "\n",
       "                             Location  \n",
       "0                                 NaN  \n",
       "1                                 NaN  \n",
       "2  POINT (-72.846365959 41.781677018)  \n",
       "3                                 NaN  \n",
       "4                                 NaN  "
      ]
     },
     "execution_count": 3,
     "metadata": {},
     "output_type": "execute_result"
    }
   ],
   "source": [
    "df.head()"
   ]
  },
  {
   "cell_type": "code",
   "execution_count": 4,
   "id": "7770a3c8-b5a4-4118-8a41-3fa96176b4c6",
   "metadata": {},
   "outputs": [
    {
     "name": "stdout",
     "output_type": "stream",
     "text": [
      "<class 'pandas.core.frame.DataFrame'>\n",
      "RangeIndex: 1054159 entries, 0 to 1054158\n",
      "Data columns (total 14 columns):\n",
      " #   Column            Non-Null Count    Dtype  \n",
      "---  ------            --------------    -----  \n",
      " 0   Serial Number     1054159 non-null  int64  \n",
      " 1   List Year         1054159 non-null  int64  \n",
      " 2   Date Recorded     1054157 non-null  object \n",
      " 3   Town              1054159 non-null  object \n",
      " 4   Address           1054108 non-null  object \n",
      " 5   Assessed Value    1054159 non-null  float64\n",
      " 6   Sale Amount       1054159 non-null  float64\n",
      " 7   Sales Ratio       1054159 non-null  float64\n",
      " 8   Property Type     671713 non-null   object \n",
      " 9   Residential Type  660275 non-null   object \n",
      " 10  Non Use Code      302242 non-null   object \n",
      " 11  Assessor Remarks  161472 non-null   object \n",
      " 12  OPM remarks       11564 non-null    object \n",
      " 13  Location          254643 non-null   object \n",
      "dtypes: float64(3), int64(2), object(9)\n",
      "memory usage: 112.6+ MB\n"
     ]
    }
   ],
   "source": [
    "df.info()"
   ]
  },
  {
   "cell_type": "markdown",
   "id": "d62a424e-5c25-4e94-878d-bf90c7d622df",
   "metadata": {},
   "source": [
    "Looking at our dataset, we can see that most of the features are of type object, with the exception of 'Serial Number', 'List Year', 'Assessed Value', 'Sale Amount', and 'Sale Ratio'. We will need to perform some cateogrical imputing and other transformations for the rest of the features. \n",
    "\n",
    "We can also see that some columns are missing data. We will investigate and decide the best course of action on  this further."
   ]
  },
  {
   "cell_type": "code",
   "execution_count": 5,
   "id": "8035c9e2-bb6e-4599-a9dd-d40188ea1cf7",
   "metadata": {
    "scrolled": true
   },
   "outputs": [
    {
     "data": {
      "text/html": [
       "<div>\n",
       "<style scoped>\n",
       "    .dataframe tbody tr th:only-of-type {\n",
       "        vertical-align: middle;\n",
       "    }\n",
       "\n",
       "    .dataframe tbody tr th {\n",
       "        vertical-align: top;\n",
       "    }\n",
       "\n",
       "    .dataframe thead th {\n",
       "        text-align: right;\n",
       "    }\n",
       "</style>\n",
       "<table border=\"1\" class=\"dataframe\">\n",
       "  <thead>\n",
       "    <tr style=\"text-align: right;\">\n",
       "      <th></th>\n",
       "      <th>count</th>\n",
       "      <th>mean</th>\n",
       "      <th>std</th>\n",
       "      <th>min</th>\n",
       "      <th>25%</th>\n",
       "      <th>50%</th>\n",
       "      <th>75%</th>\n",
       "      <th>max</th>\n",
       "    </tr>\n",
       "  </thead>\n",
       "  <tbody>\n",
       "    <tr>\n",
       "      <th>Serial Number</th>\n",
       "      <td>1054159.0</td>\n",
       "      <td>502713.979454</td>\n",
       "      <td>7.230239e+06</td>\n",
       "      <td>0.0</td>\n",
       "      <td>30552.000000</td>\n",
       "      <td>80080.000000</td>\n",
       "      <td>160815.5000</td>\n",
       "      <td>2.000500e+09</td>\n",
       "    </tr>\n",
       "    <tr>\n",
       "      <th>List Year</th>\n",
       "      <td>1054159.0</td>\n",
       "      <td>2010.773798</td>\n",
       "      <td>6.540711e+00</td>\n",
       "      <td>2001.0</td>\n",
       "      <td>2004.000000</td>\n",
       "      <td>2011.000000</td>\n",
       "      <td>2017.0000</td>\n",
       "      <td>2.021000e+03</td>\n",
       "    </tr>\n",
       "    <tr>\n",
       "      <th>Assessed Value</th>\n",
       "      <td>1054159.0</td>\n",
       "      <td>279741.565349</td>\n",
       "      <td>1.650117e+06</td>\n",
       "      <td>0.0</td>\n",
       "      <td>88450.000000</td>\n",
       "      <td>139580.000000</td>\n",
       "      <td>227000.0000</td>\n",
       "      <td>8.815100e+08</td>\n",
       "    </tr>\n",
       "    <tr>\n",
       "      <th>Sale Amount</th>\n",
       "      <td>1054159.0</td>\n",
       "      <td>399028.642515</td>\n",
       "      <td>5.229758e+06</td>\n",
       "      <td>0.0</td>\n",
       "      <td>142200.000000</td>\n",
       "      <td>230000.000000</td>\n",
       "      <td>370000.0000</td>\n",
       "      <td>5.000000e+09</td>\n",
       "    </tr>\n",
       "    <tr>\n",
       "      <th>Sales Ratio</th>\n",
       "      <td>1054159.0</td>\n",
       "      <td>9.953241</td>\n",
       "      <td>1.838434e+03</td>\n",
       "      <td>0.0</td>\n",
       "      <td>0.481601</td>\n",
       "      <td>0.616289</td>\n",
       "      <td>0.7764</td>\n",
       "      <td>1.226420e+06</td>\n",
       "    </tr>\n",
       "  </tbody>\n",
       "</table>\n",
       "</div>"
      ],
      "text/plain": [
       "                    count           mean           std     min            25%  \\\n",
       "Serial Number   1054159.0  502713.979454  7.230239e+06     0.0   30552.000000   \n",
       "List Year       1054159.0    2010.773798  6.540711e+00  2001.0    2004.000000   \n",
       "Assessed Value  1054159.0  279741.565349  1.650117e+06     0.0   88450.000000   \n",
       "Sale Amount     1054159.0  399028.642515  5.229758e+06     0.0  142200.000000   \n",
       "Sales Ratio     1054159.0       9.953241  1.838434e+03     0.0       0.481601   \n",
       "\n",
       "                          50%          75%           max  \n",
       "Serial Number    80080.000000  160815.5000  2.000500e+09  \n",
       "List Year         2011.000000    2017.0000  2.021000e+03  \n",
       "Assessed Value  139580.000000  227000.0000  8.815100e+08  \n",
       "Sale Amount     230000.000000  370000.0000  5.000000e+09  \n",
       "Sales Ratio          0.616289       0.7764  1.226420e+06  "
      ]
     },
     "execution_count": 5,
     "metadata": {},
     "output_type": "execute_result"
    }
   ],
   "source": [
    "df.describe().T"
   ]
  },
  {
   "cell_type": "code",
   "execution_count": 6,
   "id": "335454ab-52b6-4fad-be85-89624a3cb17a",
   "metadata": {},
   "outputs": [],
   "source": [
    "num_features = df.select_dtypes(include='number')"
   ]
  },
  {
   "cell_type": "code",
   "execution_count": 7,
   "id": "250fe50f-c332-428b-aa8c-bbcca4c1a321",
   "metadata": {},
   "outputs": [
    {
     "data": {
      "text/html": [
       "<div>\n",
       "<style scoped>\n",
       "    .dataframe tbody tr th:only-of-type {\n",
       "        vertical-align: middle;\n",
       "    }\n",
       "\n",
       "    .dataframe tbody tr th {\n",
       "        vertical-align: top;\n",
       "    }\n",
       "\n",
       "    .dataframe thead th {\n",
       "        text-align: right;\n",
       "    }\n",
       "</style>\n",
       "<table border=\"1\" class=\"dataframe\">\n",
       "  <thead>\n",
       "    <tr style=\"text-align: right;\">\n",
       "      <th></th>\n",
       "      <th>Serial Number</th>\n",
       "      <th>List Year</th>\n",
       "      <th>Assessed Value</th>\n",
       "      <th>Sale Amount</th>\n",
       "      <th>Sales Ratio</th>\n",
       "    </tr>\n",
       "  </thead>\n",
       "  <tbody>\n",
       "    <tr>\n",
       "      <th>0</th>\n",
       "      <td>2020348</td>\n",
       "      <td>2020</td>\n",
       "      <td>150500.0</td>\n",
       "      <td>325000.0</td>\n",
       "      <td>0.4630</td>\n",
       "    </tr>\n",
       "    <tr>\n",
       "      <th>1</th>\n",
       "      <td>20002</td>\n",
       "      <td>2020</td>\n",
       "      <td>253000.0</td>\n",
       "      <td>430000.0</td>\n",
       "      <td>0.5883</td>\n",
       "    </tr>\n",
       "    <tr>\n",
       "      <th>2</th>\n",
       "      <td>210317</td>\n",
       "      <td>2021</td>\n",
       "      <td>329730.0</td>\n",
       "      <td>805000.0</td>\n",
       "      <td>0.4096</td>\n",
       "    </tr>\n",
       "    <tr>\n",
       "      <th>3</th>\n",
       "      <td>200212</td>\n",
       "      <td>2020</td>\n",
       "      <td>130400.0</td>\n",
       "      <td>179900.0</td>\n",
       "      <td>0.7248</td>\n",
       "    </tr>\n",
       "    <tr>\n",
       "      <th>4</th>\n",
       "      <td>200243</td>\n",
       "      <td>2020</td>\n",
       "      <td>619290.0</td>\n",
       "      <td>890000.0</td>\n",
       "      <td>0.6958</td>\n",
       "    </tr>\n",
       "  </tbody>\n",
       "</table>\n",
       "</div>"
      ],
      "text/plain": [
       "   Serial Number  List Year  Assessed Value  Sale Amount  Sales Ratio\n",
       "0        2020348       2020        150500.0     325000.0       0.4630\n",
       "1          20002       2020        253000.0     430000.0       0.5883\n",
       "2         210317       2021        329730.0     805000.0       0.4096\n",
       "3         200212       2020        130400.0     179900.0       0.7248\n",
       "4         200243       2020        619290.0     890000.0       0.6958"
      ]
     },
     "execution_count": 7,
     "metadata": {},
     "output_type": "execute_result"
    }
   ],
   "source": [
    "num_features.head()"
   ]
  },
  {
   "cell_type": "code",
   "execution_count": 8,
   "id": "ebc0faa1-618c-4696-8c8a-357e3ce02bad",
   "metadata": {},
   "outputs": [],
   "source": [
    "# %matplotlib inline\n",
    "# import matplotlib.pyplot as plt\n",
    "\n",
    "# cols = df.columns \n",
    "\n",
    "# plt.figure(figsize=(10, 14))\n",
    "# plt.suptitle('Distribution of numerical features before scaling', fontsize='13')\n",
    "# plt.subplots_adjust(top=0.93, wspace=1)\n",
    "\n",
    "\n",
    "# for i in range(len(df.columns)):\n",
    "#     plt.subplot(4, 3, i+1)\n",
    "#     sns.histplot(x=df[cols[i]], kde=True, color='#B47094')\n",
    "\n",
    "# save_fig('numeric_features_distplots')\n",
    "# plt.show();"
   ]
  },
  {
   "cell_type": "markdown",
   "id": "974b48f5-4658-4612-b564-0bbb8b1df7aa",
   "metadata": {},
   "source": [
    "### Structuring Data Types\n",
    "Because the date and dimmension of time matters in this project, let's update the data types for the 'Date Recorded' as type datetime64, and sort our dataframe by the date."
   ]
  },
  {
   "cell_type": "code",
   "execution_count": 9,
   "id": "855ab5bc-224d-411b-b6a4-f215adc3d848",
   "metadata": {},
   "outputs": [],
   "source": [
    "df['Date Recorded'] = pd.to_datetime(df['Date Recorded'])"
   ]
  },
  {
   "cell_type": "code",
   "execution_count": 10,
   "id": "4b895a8d-15cd-45af-aeed-5dfa11e1b786",
   "metadata": {},
   "outputs": [
    {
     "name": "stdout",
     "output_type": "stream",
     "text": [
      "<class 'pandas.core.frame.DataFrame'>\n",
      "RangeIndex: 1054159 entries, 0 to 1054158\n",
      "Data columns (total 14 columns):\n",
      " #   Column            Non-Null Count    Dtype         \n",
      "---  ------            --------------    -----         \n",
      " 0   Serial Number     1054159 non-null  int64         \n",
      " 1   List Year         1054159 non-null  int64         \n",
      " 2   Date Recorded     1054157 non-null  datetime64[ns]\n",
      " 3   Town              1054159 non-null  object        \n",
      " 4   Address           1054108 non-null  object        \n",
      " 5   Assessed Value    1054159 non-null  float64       \n",
      " 6   Sale Amount       1054159 non-null  float64       \n",
      " 7   Sales Ratio       1054159 non-null  float64       \n",
      " 8   Property Type     671713 non-null   object        \n",
      " 9   Residential Type  660275 non-null   object        \n",
      " 10  Non Use Code      302242 non-null   object        \n",
      " 11  Assessor Remarks  161472 non-null   object        \n",
      " 12  OPM remarks       11564 non-null    object        \n",
      " 13  Location          254643 non-null   object        \n",
      "dtypes: datetime64[ns](1), float64(3), int64(2), object(8)\n",
      "memory usage: 112.6+ MB\n"
     ]
    }
   ],
   "source": [
    "df.info()"
   ]
  },
  {
   "cell_type": "code",
   "execution_count": 11,
   "id": "7935847b-7994-4795-b742-1d95fd03810c",
   "metadata": {},
   "outputs": [
    {
     "data": {
      "text/html": [
       "<div>\n",
       "<style scoped>\n",
       "    .dataframe tbody tr th:only-of-type {\n",
       "        vertical-align: middle;\n",
       "    }\n",
       "\n",
       "    .dataframe tbody tr th {\n",
       "        vertical-align: top;\n",
       "    }\n",
       "\n",
       "    .dataframe thead th {\n",
       "        text-align: right;\n",
       "    }\n",
       "</style>\n",
       "<table border=\"1\" class=\"dataframe\">\n",
       "  <thead>\n",
       "    <tr style=\"text-align: right;\">\n",
       "      <th></th>\n",
       "      <th>Serial Number</th>\n",
       "      <th>List Year</th>\n",
       "      <th>Date Recorded</th>\n",
       "      <th>Town</th>\n",
       "      <th>Address</th>\n",
       "      <th>Assessed Value</th>\n",
       "      <th>Sale Amount</th>\n",
       "      <th>Sales Ratio</th>\n",
       "      <th>Property Type</th>\n",
       "      <th>Residential Type</th>\n",
       "      <th>Non Use Code</th>\n",
       "      <th>Assessor Remarks</th>\n",
       "      <th>OPM remarks</th>\n",
       "      <th>Location</th>\n",
       "    </tr>\n",
       "  </thead>\n",
       "  <tbody>\n",
       "    <tr>\n",
       "      <th>31164</th>\n",
       "      <td>200055</td>\n",
       "      <td>2020</td>\n",
       "      <td>2021-01-01</td>\n",
       "      <td>Old Lyme</td>\n",
       "      <td>12 SWAN AVE</td>\n",
       "      <td>150500.0</td>\n",
       "      <td>265000.0</td>\n",
       "      <td>0.5679</td>\n",
       "      <td>Residential</td>\n",
       "      <td>Single Family</td>\n",
       "      <td>NaN</td>\n",
       "      <td>NaN</td>\n",
       "      <td>NaN</td>\n",
       "      <td>NaN</td>\n",
       "    </tr>\n",
       "    <tr>\n",
       "      <th>43861</th>\n",
       "      <td>20259</td>\n",
       "      <td>2020</td>\n",
       "      <td>2021-01-01</td>\n",
       "      <td>Ridgefield</td>\n",
       "      <td>59 LINCOLN LANE</td>\n",
       "      <td>686500.0</td>\n",
       "      <td>985000.0</td>\n",
       "      <td>0.6969</td>\n",
       "      <td>Residential</td>\n",
       "      <td>Single Family</td>\n",
       "      <td>NaN</td>\n",
       "      <td>NaN</td>\n",
       "      <td>NaN</td>\n",
       "      <td>POINT (-73.47906 41.27457)</td>\n",
       "    </tr>\n",
       "  </tbody>\n",
       "</table>\n",
       "</div>"
      ],
      "text/plain": [
       "       Serial Number  List Year Date Recorded        Town          Address  \\\n",
       "31164         200055       2020    2021-01-01    Old Lyme      12 SWAN AVE   \n",
       "43861          20259       2020    2021-01-01  Ridgefield  59 LINCOLN LANE   \n",
       "\n",
       "       Assessed Value  Sale Amount  Sales Ratio Property Type  \\\n",
       "31164        150500.0     265000.0       0.5679   Residential   \n",
       "43861        686500.0     985000.0       0.6969   Residential   \n",
       "\n",
       "      Residential Type Non Use Code Assessor Remarks OPM remarks  \\\n",
       "31164    Single Family          NaN              NaN         NaN   \n",
       "43861    Single Family          NaN              NaN         NaN   \n",
       "\n",
       "                         Location  \n",
       "31164                         NaN  \n",
       "43861  POINT (-73.47906 41.27457)  "
      ]
     },
     "execution_count": 11,
     "metadata": {},
     "output_type": "execute_result"
    }
   ],
   "source": [
    "df[df['Date Recorded'] == '2021']"
   ]
  },
  {
   "cell_type": "markdown",
   "id": "395007c0-ee05-4c36-a7e6-ee8dc7b5add6",
   "metadata": {},
   "source": [
    "The other column we need to structure is 'Serial Number' and 'List Year' which are currently of int64 data type. We know that the 'Serial Number' feature represents the home ID and that it is not actually a measure of anything. Not changing this feature can impact the calculations and assumptions we make when performing EDA. We will be casting both of these columns as an object instead. "
   ]
  },
  {
   "cell_type": "code",
   "execution_count": 12,
   "id": "46a3cb63-db9b-4752-8b16-477bea4379dc",
   "metadata": {},
   "outputs": [],
   "source": [
    "cols_to_convert = ['List Year', 'Serial Number']\n",
    "for col in cols_to_convert:\n",
    "    df[col] = df[col].astype('str')"
   ]
  },
  {
   "cell_type": "code",
   "execution_count": 13,
   "id": "b8580610-029f-4abe-b66e-84d8ef9a8054",
   "metadata": {},
   "outputs": [
    {
     "name": "stdout",
     "output_type": "stream",
     "text": [
      "<class 'pandas.core.frame.DataFrame'>\n",
      "RangeIndex: 1054159 entries, 0 to 1054158\n",
      "Data columns (total 14 columns):\n",
      " #   Column            Non-Null Count    Dtype         \n",
      "---  ------            --------------    -----         \n",
      " 0   Serial Number     1054159 non-null  object        \n",
      " 1   List Year         1054159 non-null  object        \n",
      " 2   Date Recorded     1054157 non-null  datetime64[ns]\n",
      " 3   Town              1054159 non-null  object        \n",
      " 4   Address           1054108 non-null  object        \n",
      " 5   Assessed Value    1054159 non-null  float64       \n",
      " 6   Sale Amount       1054159 non-null  float64       \n",
      " 7   Sales Ratio       1054159 non-null  float64       \n",
      " 8   Property Type     671713 non-null   object        \n",
      " 9   Residential Type  660275 non-null   object        \n",
      " 10  Non Use Code      302242 non-null   object        \n",
      " 11  Assessor Remarks  161472 non-null   object        \n",
      " 12  OPM remarks       11564 non-null    object        \n",
      " 13  Location          254643 non-null   object        \n",
      "dtypes: datetime64[ns](1), float64(3), object(10)\n",
      "memory usage: 112.6+ MB\n"
     ]
    }
   ],
   "source": [
    "df.info()"
   ]
  },
  {
   "cell_type": "markdown",
   "id": "81b0dc3c-5d02-4dd8-bd60-96ee2a4f28c6",
   "metadata": {},
   "source": [
    "These transformations are enough for now as far as datatypes. Let's move on to cleaning our data. "
   ]
  },
  {
   "cell_type": "markdown",
   "id": "9762d15b-1b6d-4cc8-8e80-66ac487932c4",
   "metadata": {},
   "source": [
    "### Data Cleaning:"
   ]
  },
  {
   "cell_type": "markdown",
   "id": "490c4813-7065-4442-916a-fa9db7a540d3",
   "metadata": {},
   "source": [
    "Let's first check for any duplicate rows:"
   ]
  },
  {
   "cell_type": "code",
   "execution_count": 14,
   "id": "edbc170d-5d9d-426e-8ad7-512362d8b61b",
   "metadata": {},
   "outputs": [
    {
     "data": {
      "text/plain": [
       "0"
      ]
     },
     "execution_count": 14,
     "metadata": {},
     "output_type": "execute_result"
    }
   ],
   "source": [
    "df.duplicated().sum()"
   ]
  },
  {
   "cell_type": "markdown",
   "id": "a921a96e-bce1-46f6-a768-2e3782542ebd",
   "metadata": {},
   "source": [
    "There are no duplicate rows. Let's move on to inspect missing values:"
   ]
  },
  {
   "cell_type": "code",
   "execution_count": 15,
   "id": "d8309e63-4012-4a62-a0dc-04b97b9fe6bd",
   "metadata": {},
   "outputs": [
    {
     "data": {
      "text/plain": [
       "Serial Number        0.000000\n",
       "List Year            0.000000\n",
       "Date Recorded        0.000190\n",
       "Town                 0.000000\n",
       "Address              0.004838\n",
       "Assessed Value       0.000000\n",
       "Sale Amount          0.000000\n",
       "Sales Ratio          0.000000\n",
       "Property Type       36.279726\n",
       "Residential Type    37.364762\n",
       "Non Use Code        71.328614\n",
       "Assessor Remarks    84.682387\n",
       "OPM remarks         98.903012\n",
       "Location            75.843967\n",
       "dtype: float64"
      ]
     },
     "execution_count": 15,
     "metadata": {},
     "output_type": "execute_result"
    }
   ],
   "source": [
    "df.isna().sum()/len(df.index) * 100"
   ]
  },
  {
   "cell_type": "markdown",
   "id": "d7e927ea-8e1d-47a6-9a63-68ed68ad0f5f",
   "metadata": {},
   "source": [
    "Determining the ratio of nulls in the data frame for each column. The columns 'OPM remarks', 'Assessor Remarks', 'Location', and 'Non Use Code' are missing over 70% of the entries. These features aren't important to our research objective and thus we will not be imputing the missing values. These columns will be dropped."
   ]
  },
  {
   "cell_type": "markdown",
   "id": "b241b589-6fbc-4e29-83f0-5fe3a2822248",
   "metadata": {},
   "source": [
    "#### Columns: 'OPM remarks', 'Location', 'Assessor Remarks', 'Non Use Code'\n",
    "**Dtype:** Object <br>\n",
    "**Approach:** Column Drop"
   ]
  },
  {
   "cell_type": "markdown",
   "id": "40dd334c-1a7e-4b80-bbde-c885837a36cd",
   "metadata": {},
   "source": [
    "**Dropping features with a lot of missing values:**"
   ]
  },
  {
   "cell_type": "code",
   "execution_count": 16,
   "id": "79456e5e-e28b-487e-9cd2-da776e65e059",
   "metadata": {},
   "outputs": [],
   "source": [
    "df.drop(['OPM remarks', 'Location', 'Assessor Remarks', 'Non Use Code'], axis=1, inplace=True)"
   ]
  },
  {
   "cell_type": "code",
   "execution_count": 17,
   "id": "ae606f79-0c04-4238-b394-51d9db3a7706",
   "metadata": {},
   "outputs": [
    {
     "name": "stdout",
     "output_type": "stream",
     "text": [
      "<class 'pandas.core.frame.DataFrame'>\n",
      "RangeIndex: 1054159 entries, 0 to 1054158\n",
      "Data columns (total 10 columns):\n",
      " #   Column            Non-Null Count    Dtype         \n",
      "---  ------            --------------    -----         \n",
      " 0   Serial Number     1054159 non-null  object        \n",
      " 1   List Year         1054159 non-null  object        \n",
      " 2   Date Recorded     1054157 non-null  datetime64[ns]\n",
      " 3   Town              1054159 non-null  object        \n",
      " 4   Address           1054108 non-null  object        \n",
      " 5   Assessed Value    1054159 non-null  float64       \n",
      " 6   Sale Amount       1054159 non-null  float64       \n",
      " 7   Sales Ratio       1054159 non-null  float64       \n",
      " 8   Property Type     671713 non-null   object        \n",
      " 9   Residential Type  660275 non-null   object        \n",
      "dtypes: datetime64[ns](1), float64(3), object(6)\n",
      "memory usage: 80.4+ MB\n"
     ]
    }
   ],
   "source": [
    "df.info()"
   ]
  },
  {
   "cell_type": "markdown",
   "id": "0b664ede-6725-4346-b0c7-aa7d2bf682f4",
   "metadata": {},
   "source": [
    "checking other rows for na:"
   ]
  },
  {
   "cell_type": "code",
   "execution_count": 18,
   "id": "7d7f79f8-dc55-42c6-8653-cc93020566f6",
   "metadata": {},
   "outputs": [
    {
     "data": {
      "text/plain": [
       "Serial Number            0\n",
       "List Year                0\n",
       "Date Recorded            2\n",
       "Town                     0\n",
       "Address                 51\n",
       "Assessed Value           0\n",
       "Sale Amount              0\n",
       "Sales Ratio              0\n",
       "Property Type       382446\n",
       "Residential Type    393884\n",
       "dtype: int64"
      ]
     },
     "execution_count": 18,
     "metadata": {},
     "output_type": "execute_result"
    }
   ],
   "source": [
    "df.isna().sum()"
   ]
  },
  {
   "cell_type": "code",
   "execution_count": 19,
   "id": "7135b9e4-d7c6-414b-985f-0f683084ce24",
   "metadata": {},
   "outputs": [
    {
     "data": {
      "text/plain": [
       "Serial Number        0.000000\n",
       "List Year            0.000000\n",
       "Date Recorded        0.000190\n",
       "Town                 0.000000\n",
       "Address              0.004838\n",
       "Assessed Value       0.000000\n",
       "Sale Amount          0.000000\n",
       "Sales Ratio          0.000000\n",
       "Property Type       36.279726\n",
       "Residential Type    37.364762\n",
       "dtype: float64"
      ]
     },
     "execution_count": 19,
     "metadata": {},
     "output_type": "execute_result"
    }
   ],
   "source": [
    "df.isna().mean() * 100"
   ]
  },
  {
   "cell_type": "markdown",
   "id": "4fc7d50a-1716-494a-a4f9-37d1aa8c608e",
   "metadata": {},
   "source": [
    "#### Columns: 'Date Recorded' and 'Address'\n",
    "**Dtype:** Object <br>\n",
    "**Approach:** Row Drop"
   ]
  },
  {
   "cell_type": "markdown",
   "id": "c0c10962-1875-4eff-9b20-628ba8f68edc",
   "metadata": {},
   "source": [
    "Looking at the missing values for 'Date Recorded' and 'Address', we see that missing values in this column are also missing values in other columns, some of which are really important. The combined missing values for both of these rows (2, 51 respectively) are less 60 rows. We will drop the na rows in both of these features."
   ]
  },
  {
   "cell_type": "code",
   "execution_count": 20,
   "id": "a62f03c7-8c40-4668-82f8-70a506386baa",
   "metadata": {},
   "outputs": [
    {
     "data": {
      "text/html": [
       "<div>\n",
       "<style scoped>\n",
       "    .dataframe tbody tr th:only-of-type {\n",
       "        vertical-align: middle;\n",
       "    }\n",
       "\n",
       "    .dataframe tbody tr th {\n",
       "        vertical-align: top;\n",
       "    }\n",
       "\n",
       "    .dataframe thead th {\n",
       "        text-align: right;\n",
       "    }\n",
       "</style>\n",
       "<table border=\"1\" class=\"dataframe\">\n",
       "  <thead>\n",
       "    <tr style=\"text-align: right;\">\n",
       "      <th></th>\n",
       "      <th>Serial Number</th>\n",
       "      <th>List Year</th>\n",
       "      <th>Date Recorded</th>\n",
       "      <th>Town</th>\n",
       "      <th>Address</th>\n",
       "      <th>Assessed Value</th>\n",
       "      <th>Sale Amount</th>\n",
       "      <th>Sales Ratio</th>\n",
       "      <th>Property Type</th>\n",
       "      <th>Residential Type</th>\n",
       "    </tr>\n",
       "  </thead>\n",
       "  <tbody>\n",
       "    <tr>\n",
       "      <th>0</th>\n",
       "      <td>2020348</td>\n",
       "      <td>2020</td>\n",
       "      <td>2021-09-13</td>\n",
       "      <td>Ansonia</td>\n",
       "      <td>230 WAKELEE AVE</td>\n",
       "      <td>150500.0</td>\n",
       "      <td>325000.0</td>\n",
       "      <td>0.4630</td>\n",
       "      <td>Commercial</td>\n",
       "      <td>NaN</td>\n",
       "    </tr>\n",
       "    <tr>\n",
       "      <th>1</th>\n",
       "      <td>20002</td>\n",
       "      <td>2020</td>\n",
       "      <td>2020-10-02</td>\n",
       "      <td>Ashford</td>\n",
       "      <td>390 TURNPIKE RD</td>\n",
       "      <td>253000.0</td>\n",
       "      <td>430000.0</td>\n",
       "      <td>0.5883</td>\n",
       "      <td>Residential</td>\n",
       "      <td>Single Family</td>\n",
       "    </tr>\n",
       "    <tr>\n",
       "      <th>2</th>\n",
       "      <td>210317</td>\n",
       "      <td>2021</td>\n",
       "      <td>2022-07-05</td>\n",
       "      <td>Avon</td>\n",
       "      <td>53 COTSWOLD WAY</td>\n",
       "      <td>329730.0</td>\n",
       "      <td>805000.0</td>\n",
       "      <td>0.4096</td>\n",
       "      <td>Residential</td>\n",
       "      <td>Single Family</td>\n",
       "    </tr>\n",
       "    <tr>\n",
       "      <th>3</th>\n",
       "      <td>200212</td>\n",
       "      <td>2020</td>\n",
       "      <td>2021-03-09</td>\n",
       "      <td>Avon</td>\n",
       "      <td>5 CHESTNUT DRIVE</td>\n",
       "      <td>130400.0</td>\n",
       "      <td>179900.0</td>\n",
       "      <td>0.7248</td>\n",
       "      <td>Residential</td>\n",
       "      <td>Condo</td>\n",
       "    </tr>\n",
       "    <tr>\n",
       "      <th>4</th>\n",
       "      <td>200243</td>\n",
       "      <td>2020</td>\n",
       "      <td>2021-04-13</td>\n",
       "      <td>Avon</td>\n",
       "      <td>111 NORTHINGTON DRIVE</td>\n",
       "      <td>619290.0</td>\n",
       "      <td>890000.0</td>\n",
       "      <td>0.6958</td>\n",
       "      <td>Residential</td>\n",
       "      <td>Single Family</td>\n",
       "    </tr>\n",
       "  </tbody>\n",
       "</table>\n",
       "</div>"
      ],
      "text/plain": [
       "  Serial Number List Year Date Recorded     Town                Address  \\\n",
       "0       2020348      2020    2021-09-13  Ansonia        230 WAKELEE AVE   \n",
       "1         20002      2020    2020-10-02  Ashford        390 TURNPIKE RD   \n",
       "2        210317      2021    2022-07-05     Avon        53 COTSWOLD WAY   \n",
       "3        200212      2020    2021-03-09     Avon       5 CHESTNUT DRIVE   \n",
       "4        200243      2020    2021-04-13     Avon  111 NORTHINGTON DRIVE   \n",
       "\n",
       "   Assessed Value  Sale Amount  Sales Ratio Property Type Residential Type  \n",
       "0        150500.0     325000.0       0.4630    Commercial              NaN  \n",
       "1        253000.0     430000.0       0.5883   Residential    Single Family  \n",
       "2        329730.0     805000.0       0.4096   Residential    Single Family  \n",
       "3        130400.0     179900.0       0.7248   Residential            Condo  \n",
       "4        619290.0     890000.0       0.6958   Residential    Single Family  "
      ]
     },
     "execution_count": 20,
     "metadata": {},
     "output_type": "execute_result"
    }
   ],
   "source": [
    "df.head()"
   ]
  },
  {
   "cell_type": "code",
   "execution_count": 21,
   "id": "54a09ce5-e87b-42d3-8901-fc6976236934",
   "metadata": {},
   "outputs": [
    {
     "name": "stdout",
     "output_type": "stream",
     "text": [
      "The number of NA rows for Date Recorded is 2\n",
      "The number of NA rows for Address is 49\n"
     ]
    }
   ],
   "source": [
    "date_and_address = ['Date Recorded', 'Address']\n",
    "\n",
    "for col in date_and_address:\n",
    "    na_sum = df[col].isna().sum()\n",
    "    print(f'The number of NA rows for {col} is {na_sum}')\n",
    "    df.dropna(subset=[col], inplace=True)\n"
   ]
  },
  {
   "cell_type": "markdown",
   "id": "e30fda2f-f057-4c99-a4d4-1fc15db6ce7f",
   "metadata": {},
   "source": [
    "Below we confirm that we have cleaned the na rows in 'Date Recorded' and 'Address'.  Let's check for other columns with missing values."
   ]
  },
  {
   "cell_type": "code",
   "execution_count": 22,
   "id": "0bd653ba-9ec2-4a28-a025-c084d1b484c3",
   "metadata": {},
   "outputs": [
    {
     "data": {
      "text/plain": [
       "Serial Number            0\n",
       "List Year                0\n",
       "Date Recorded            0\n",
       "Town                     0\n",
       "Address                  0\n",
       "Assessed Value           0\n",
       "Sale Amount              0\n",
       "Sales Ratio              0\n",
       "Property Type       382399\n",
       "Residential Type    393837\n",
       "dtype: int64"
      ]
     },
     "execution_count": 22,
     "metadata": {},
     "output_type": "execute_result"
    }
   ],
   "source": [
    "df.isna().sum()"
   ]
  },
  {
   "cell_type": "markdown",
   "id": "b657c1f5-97e8-4d58-b8ba-c7b9d94563bb",
   "metadata": {},
   "source": [
    "We have officially discarded those data points with missing values for 'Address' and 'Date Recorded' and that concludes the cleaning process for these features. "
   ]
  },
  {
   "cell_type": "markdown",
   "id": "ed547f0a-4b38-4e34-8caa-97c72bc3f9a0",
   "metadata": {},
   "source": [
    "#### Columns: 'Property Type' and 'Residential Type'\n",
    "**Dtype:** Object <br>\n",
    "**Approach:** Mode Imputing"
   ]
  },
  {
   "cell_type": "markdown",
   "id": "df1ef53b-f9ad-4369-9c72-5dbad47018e3",
   "metadata": {},
   "source": [
    "We are missing quite a few values for 'Property Type' and 'Residential Type' so we can't simply drop these missing values at the risk of losing a lot of data. These features are of object type, so we can impute the missing values by the mode. "
   ]
  },
  {
   "cell_type": "code",
   "execution_count": 24,
   "id": "73d26c6f-a4fd-4ceb-a064-edd4e6792099",
   "metadata": {},
   "outputs": [
    {
     "data": {
      "text/plain": [
       "Property Type\n",
       "Single Family     401610\n",
       "Residential       112099\n",
       "Condo             105419\n",
       "Two Family         26407\n",
       "Three Family       12586\n",
       "Vacant Land         5746\n",
       "Commercial          4208\n",
       "Four Family         2150\n",
       "Apartments           943\n",
       "Industrial           533\n",
       "Public Utility         8\n",
       "Name: count, dtype: int64"
      ]
     },
     "execution_count": 24,
     "metadata": {},
     "output_type": "execute_result"
    }
   ],
   "source": [
    "df['Property Type'].value_counts()"
   ]
  },
  {
   "cell_type": "code",
   "execution_count": 25,
   "id": "3c6d056b-3d15-45ab-93a0-30c72b5f0fab",
   "metadata": {},
   "outputs": [],
   "source": [
    "def plot_unique_vals(data, col, title, x_label, y_label):\n",
    "    '''\n",
    "    Plots the unique values of each column. \n",
    "    Takes in data, col, title, x_label, and y_label as variables:\n",
    "\n",
    "    Inputs: \n",
    "    data = dataframe \n",
    "    col = column in the dataframe of interest\n",
    "    title = title of the plot\n",
    "    x_label = x axis label of the plot\n",
    "    y_label = y axis label of the plot \n",
    "\n",
    "    Outputs: \n",
    "    A bar plot of the unique values in column \n",
    "    \n",
    "    '''\n",
    "    fig = sns.barplot(data[col].value_counts(), orient='h', palette=\"Spectral\").set_title(title)\n",
    "    # add additional title, xlabel and ylabel variables"
   ]
  },
  {
   "cell_type": "code",
   "execution_count": 26,
   "id": "02a2a4c0-a03e-4bd2-a18e-af0af76664a1",
   "metadata": {},
   "outputs": [
    {
     "data": {
      "image/png": "[encoded data removed]",
      "text/plain": [
       "<Figure size 640x480 with 1 Axes>"
      ]
     },
     "metadata": {},
     "output_type": "display_data"
    }
   ],
   "source": [
    "plot_unique_vals(df, 'Property Type', 'Property Type Distribution', 'Property Type', 'Count')"
   ]
  },
  {
   "cell_type": "code",
   "execution_count": 27,
   "id": "ae0bb351-b55a-42a7-a6c3-2b2c0ab954f5",
   "metadata": {},
   "outputs": [
    {
     "data": {
      "image/png": "[encoded data removed]",
      "text/plain": [
       "<Figure size 640x480 with 1 Axes>"
      ]
     },
     "metadata": {},
     "output_type": "display_data"
    }
   ],
   "source": [
    "plot_unique_vals(df, 'Residential Type', 'Residential Type Distribution', 'Residential Type', 'Count');"
   ]
  },
  {
   "cell_type": "code",
   "execution_count": 62,
   "id": "550dd3c0-2698-4f64-9e16-1e018596d40a",
   "metadata": {},
   "outputs": [
    {
     "data": {
      "text/html": [
       "<div>\n",
       "<style scoped>\n",
       "    .dataframe tbody tr th:only-of-type {\n",
       "        vertical-align: middle;\n",
       "    }\n",
       "\n",
       "    .dataframe tbody tr th {\n",
       "        vertical-align: top;\n",
       "    }\n",
       "\n",
       "    .dataframe thead th {\n",
       "        text-align: right;\n",
       "    }\n",
       "</style>\n",
       "<table border=\"1\" class=\"dataframe\">\n",
       "  <thead>\n",
       "    <tr style=\"text-align: right;\">\n",
       "      <th></th>\n",
       "      <th>Serial Number</th>\n",
       "      <th>List Year</th>\n",
       "      <th>Date Recorded</th>\n",
       "      <th>Town</th>\n",
       "      <th>Address</th>\n",
       "      <th>Assessed Value</th>\n",
       "      <th>Sale Amount</th>\n",
       "      <th>Sales Ratio</th>\n",
       "      <th>Property Type</th>\n",
       "      <th>Residential Type</th>\n",
       "    </tr>\n",
       "  </thead>\n",
       "  <tbody>\n",
       "    <tr>\n",
       "      <th>1</th>\n",
       "      <td>20002</td>\n",
       "      <td>2020</td>\n",
       "      <td>2020-10-02</td>\n",
       "      <td>Ashford</td>\n",
       "      <td>390 TURNPIKE RD</td>\n",
       "      <td>253000.0</td>\n",
       "      <td>430000.0</td>\n",
       "      <td>0.5883</td>\n",
       "      <td>Residential</td>\n",
       "      <td>Single Family</td>\n",
       "    </tr>\n",
       "    <tr>\n",
       "      <th>2</th>\n",
       "      <td>210317</td>\n",
       "      <td>2021</td>\n",
       "      <td>2022-07-05</td>\n",
       "      <td>Avon</td>\n",
       "      <td>53 COTSWOLD WAY</td>\n",
       "      <td>329730.0</td>\n",
       "      <td>805000.0</td>\n",
       "      <td>0.4096</td>\n",
       "      <td>Residential</td>\n",
       "      <td>Single Family</td>\n",
       "    </tr>\n",
       "    <tr>\n",
       "      <th>4</th>\n",
       "      <td>200243</td>\n",
       "      <td>2020</td>\n",
       "      <td>2021-04-13</td>\n",
       "      <td>Avon</td>\n",
       "      <td>111 NORTHINGTON DRIVE</td>\n",
       "      <td>619290.0</td>\n",
       "      <td>890000.0</td>\n",
       "      <td>0.6958</td>\n",
       "      <td>Residential</td>\n",
       "      <td>Single Family</td>\n",
       "    </tr>\n",
       "    <tr>\n",
       "      <th>5</th>\n",
       "      <td>200377</td>\n",
       "      <td>2020</td>\n",
       "      <td>2021-07-02</td>\n",
       "      <td>Avon</td>\n",
       "      <td>70 FAR HILLS DRIVE</td>\n",
       "      <td>862330.0</td>\n",
       "      <td>1447500.0</td>\n",
       "      <td>0.5957</td>\n",
       "      <td>Residential</td>\n",
       "      <td>Single Family</td>\n",
       "    </tr>\n",
       "    <tr>\n",
       "      <th>6</th>\n",
       "      <td>200109</td>\n",
       "      <td>2020</td>\n",
       "      <td>2020-12-09</td>\n",
       "      <td>Avon</td>\n",
       "      <td>57 FAR HILLS DRIVE</td>\n",
       "      <td>847520.0</td>\n",
       "      <td>1250000.0</td>\n",
       "      <td>0.6780</td>\n",
       "      <td>Residential</td>\n",
       "      <td>Single Family</td>\n",
       "    </tr>\n",
       "  </tbody>\n",
       "</table>\n",
       "</div>"
      ],
      "text/plain": [
       "  Serial Number List Year Date Recorded     Town                Address  \\\n",
       "1         20002      2020    2020-10-02  Ashford        390 TURNPIKE RD   \n",
       "2        210317      2021    2022-07-05     Avon        53 COTSWOLD WAY   \n",
       "4        200243      2020    2021-04-13     Avon  111 NORTHINGTON DRIVE   \n",
       "5        200377      2020    2021-07-02     Avon     70 FAR HILLS DRIVE   \n",
       "6        200109      2020    2020-12-09     Avon     57 FAR HILLS DRIVE   \n",
       "\n",
       "   Assessed Value  Sale Amount  Sales Ratio Property Type Residential Type  \n",
       "1        253000.0     430000.0       0.5883   Residential    Single Family  \n",
       "2        329730.0     805000.0       0.4096   Residential    Single Family  \n",
       "4        619290.0     890000.0       0.6958   Residential    Single Family  \n",
       "5        862330.0    1447500.0       0.5957   Residential    Single Family  \n",
       "6        847520.0    1250000.0       0.6780   Residential    Single Family  "
      ]
     },
     "execution_count": 62,
     "metadata": {},
     "output_type": "execute_result"
    }
   ],
   "source": [
    "single_fam = df[df['Residential Type'] == 'Single Family']\n",
    "single_fam.head()\n",
    "#print(f'The count of Single Family is {single_fam.count()}')"
   ]
  },
  {
   "cell_type": "code",
   "execution_count": 63,
   "id": "1425e046-9740-43d9-987e-8b16216637cf",
   "metadata": {},
   "outputs": [],
   "source": [
    "singe_fam_propT = df[df['Property Type'] == 'Single Family']"
   ]
  },
  {
   "cell_type": "code",
   "execution_count": 64,
   "id": "81afbf74-b274-4655-9878-6bc63a001831",
   "metadata": {},
   "outputs": [
    {
     "data": {
      "text/html": [
       "<div>\n",
       "<style scoped>\n",
       "    .dataframe tbody tr th:only-of-type {\n",
       "        vertical-align: middle;\n",
       "    }\n",
       "\n",
       "    .dataframe tbody tr th {\n",
       "        vertical-align: top;\n",
       "    }\n",
       "\n",
       "    .dataframe thead th {\n",
       "        text-align: right;\n",
       "    }\n",
       "</style>\n",
       "<table border=\"1\" class=\"dataframe\">\n",
       "  <thead>\n",
       "    <tr style=\"text-align: right;\">\n",
       "      <th></th>\n",
       "      <th>Date Recorded</th>\n",
       "      <th>Assessed Value</th>\n",
       "      <th>Sale Amount</th>\n",
       "      <th>Sales Ratio</th>\n",
       "    </tr>\n",
       "  </thead>\n",
       "  <tbody>\n",
       "    <tr>\n",
       "      <th>count</th>\n",
       "      <td>480564</td>\n",
       "      <td>4.805640e+05</td>\n",
       "      <td>4.805640e+05</td>\n",
       "      <td>4.805640e+05</td>\n",
       "    </tr>\n",
       "    <tr>\n",
       "      <th>mean</th>\n",
       "      <td>2015-07-29 04:11:39.737808384</td>\n",
       "      <td>2.776032e+05</td>\n",
       "      <td>4.082680e+05</td>\n",
       "      <td>6.886068e+00</td>\n",
       "    </tr>\n",
       "    <tr>\n",
       "      <th>min</th>\n",
       "      <td>2001-08-01 00:00:00</td>\n",
       "      <td>0.000000e+00</td>\n",
       "      <td>0.000000e+00</td>\n",
       "      <td>0.000000e+00</td>\n",
       "    </tr>\n",
       "    <tr>\n",
       "      <th>25%</th>\n",
       "      <td>2011-07-28 00:00:00</td>\n",
       "      <td>1.250500e+05</td>\n",
       "      <td>1.750000e+05</td>\n",
       "      <td>5.763517e-01</td>\n",
       "    </tr>\n",
       "    <tr>\n",
       "      <th>50%</th>\n",
       "      <td>2016-02-09 00:00:00</td>\n",
       "      <td>1.770300e+05</td>\n",
       "      <td>2.650000e+05</td>\n",
       "      <td>6.804388e-01</td>\n",
       "    </tr>\n",
       "    <tr>\n",
       "      <th>75%</th>\n",
       "      <td>2019-09-24 00:00:00</td>\n",
       "      <td>2.767100e+05</td>\n",
       "      <td>4.180000e+05</td>\n",
       "      <td>8.231675e-01</td>\n",
       "    </tr>\n",
       "    <tr>\n",
       "      <th>max</th>\n",
       "      <td>2022-09-30 00:00:00</td>\n",
       "      <td>1.106702e+08</td>\n",
       "      <td>3.187900e+08</td>\n",
       "      <td>1.226420e+06</td>\n",
       "    </tr>\n",
       "    <tr>\n",
       "      <th>std</th>\n",
       "      <td>NaN</td>\n",
       "      <td>4.833919e+05</td>\n",
       "      <td>8.026471e+05</td>\n",
       "      <td>2.026776e+03</td>\n",
       "    </tr>\n",
       "  </tbody>\n",
       "</table>\n",
       "</div>"
      ],
      "text/plain": [
       "                       Date Recorded  Assessed Value   Sale Amount  \\\n",
       "count                         480564    4.805640e+05  4.805640e+05   \n",
       "mean   2015-07-29 04:11:39.737808384    2.776032e+05  4.082680e+05   \n",
       "min              2001-08-01 00:00:00    0.000000e+00  0.000000e+00   \n",
       "25%              2011-07-28 00:00:00    1.250500e+05  1.750000e+05   \n",
       "50%              2016-02-09 00:00:00    1.770300e+05  2.650000e+05   \n",
       "75%              2019-09-24 00:00:00    2.767100e+05  4.180000e+05   \n",
       "max              2022-09-30 00:00:00    1.106702e+08  3.187900e+08   \n",
       "std                              NaN    4.833919e+05  8.026471e+05   \n",
       "\n",
       "        Sales Ratio  \n",
       "count  4.805640e+05  \n",
       "mean   6.886068e+00  \n",
       "min    0.000000e+00  \n",
       "25%    5.763517e-01  \n",
       "50%    6.804388e-01  \n",
       "75%    8.231675e-01  \n",
       "max    1.226420e+06  \n",
       "std    2.026776e+03  "
      ]
     },
     "execution_count": 64,
     "metadata": {},
     "output_type": "execute_result"
    }
   ],
   "source": [
    "single_fam.describe()"
   ]
  },
  {
   "cell_type": "code",
   "execution_count": 65,
   "id": "9052333b-b626-475b-869b-1b7c171efd1c",
   "metadata": {},
   "outputs": [
    {
     "data": {
      "text/html": [
       "<div>\n",
       "<style scoped>\n",
       "    .dataframe tbody tr th:only-of-type {\n",
       "        vertical-align: middle;\n",
       "    }\n",
       "\n",
       "    .dataframe tbody tr th {\n",
       "        vertical-align: top;\n",
       "    }\n",
       "\n",
       "    .dataframe thead th {\n",
       "        text-align: right;\n",
       "    }\n",
       "</style>\n",
       "<table border=\"1\" class=\"dataframe\">\n",
       "  <thead>\n",
       "    <tr style=\"text-align: right;\">\n",
       "      <th></th>\n",
       "      <th>Date Recorded</th>\n",
       "      <th>Assessed Value</th>\n",
       "      <th>Sale Amount</th>\n",
       "      <th>Sales Ratio</th>\n",
       "    </tr>\n",
       "  </thead>\n",
       "  <tbody>\n",
       "    <tr>\n",
       "      <th>count</th>\n",
       "      <td>401610</td>\n",
       "      <td>4.016100e+05</td>\n",
       "      <td>4.016100e+05</td>\n",
       "      <td>4.016100e+05</td>\n",
       "    </tr>\n",
       "    <tr>\n",
       "      <th>mean</th>\n",
       "      <td>2014-05-15 03:40:57.207738624</td>\n",
       "      <td>2.771355e+05</td>\n",
       "      <td>3.885145e+05</td>\n",
       "      <td>8.115120e+00</td>\n",
       "    </tr>\n",
       "    <tr>\n",
       "      <th>min</th>\n",
       "      <td>2001-08-01 00:00:00</td>\n",
       "      <td>0.000000e+00</td>\n",
       "      <td>0.000000e+00</td>\n",
       "      <td>0.000000e+00</td>\n",
       "    </tr>\n",
       "    <tr>\n",
       "      <th>25%</th>\n",
       "      <td>2010-08-25 00:00:00</td>\n",
       "      <td>1.249500e+05</td>\n",
       "      <td>1.660000e+05</td>\n",
       "      <td>6.117747e-01</td>\n",
       "    </tr>\n",
       "    <tr>\n",
       "      <th>50%</th>\n",
       "      <td>2014-11-17 00:00:00</td>\n",
       "      <td>1.765400e+05</td>\n",
       "      <td>2.500000e+05</td>\n",
       "      <td>7.056000e-01</td>\n",
       "    </tr>\n",
       "    <tr>\n",
       "      <th>75%</th>\n",
       "      <td>2017-12-01 00:00:00</td>\n",
       "      <td>2.753500e+05</td>\n",
       "      <td>3.950000e+05</td>\n",
       "      <td>8.546000e-01</td>\n",
       "    </tr>\n",
       "    <tr>\n",
       "      <th>max</th>\n",
       "      <td>2020-09-30 00:00:00</td>\n",
       "      <td>1.106702e+08</td>\n",
       "      <td>1.200000e+08</td>\n",
       "      <td>1.226420e+06</td>\n",
       "    </tr>\n",
       "    <tr>\n",
       "      <th>std</th>\n",
       "      <td>NaN</td>\n",
       "      <td>4.911864e+05</td>\n",
       "      <td>6.517123e+05</td>\n",
       "      <td>2.217067e+03</td>\n",
       "    </tr>\n",
       "  </tbody>\n",
       "</table>\n",
       "</div>"
      ],
      "text/plain": [
       "                       Date Recorded  Assessed Value   Sale Amount  \\\n",
       "count                         401610    4.016100e+05  4.016100e+05   \n",
       "mean   2014-05-15 03:40:57.207738624    2.771355e+05  3.885145e+05   \n",
       "min              2001-08-01 00:00:00    0.000000e+00  0.000000e+00   \n",
       "25%              2010-08-25 00:00:00    1.249500e+05  1.660000e+05   \n",
       "50%              2014-11-17 00:00:00    1.765400e+05  2.500000e+05   \n",
       "75%              2017-12-01 00:00:00    2.753500e+05  3.950000e+05   \n",
       "max              2020-09-30 00:00:00    1.106702e+08  1.200000e+08   \n",
       "std                              NaN    4.911864e+05  6.517123e+05   \n",
       "\n",
       "        Sales Ratio  \n",
       "count  4.016100e+05  \n",
       "mean   8.115120e+00  \n",
       "min    0.000000e+00  \n",
       "25%    6.117747e-01  \n",
       "50%    7.056000e-01  \n",
       "75%    8.546000e-01  \n",
       "max    1.226420e+06  \n",
       "std    2.217067e+03  "
      ]
     },
     "execution_count": 65,
     "metadata": {},
     "output_type": "execute_result"
    }
   ],
   "source": [
    "singe_fam_propT.describe()"
   ]
  },
  {
   "cell_type": "code",
   "execution_count": 73,
   "id": "661e1c34-115b-433e-a057-6e07c10696d4",
   "metadata": {},
   "outputs": [
    {
     "data": {
      "text/plain": [
       "Property Type\n",
       "Single Family     4016.10\n",
       "Residential       1120.99\n",
       "Condo             1054.19\n",
       "Two Family         264.07\n",
       "Three Family       125.86\n",
       "Vacant Land         57.46\n",
       "Commercial          42.08\n",
       "Four Family         21.50\n",
       "Apartments           9.43\n",
       "Industrial           5.33\n",
       "Public Utility       0.08\n",
       "Name: count, dtype: float64"
      ]
     },
     "execution_count": 73,
     "metadata": {},
     "output_type": "execute_result"
    }
   ],
   "source": [
    "df['Property Type'].value_counts() "
   ]
  },
  {
   "cell_type": "code",
   "execution_count": 69,
   "id": "5214ada4-af78-45ba-8eb7-ecfb5c264557",
   "metadata": {},
   "outputs": [
    {
     "data": {
      "text/plain": [
       "Residential Type\n",
       "Single Family    480564\n",
       "Condo            128788\n",
       "Two Family        32614\n",
       "Three Family      15542\n",
       "Four Family        2763\n",
       "Name: count, dtype: int64"
      ]
     },
     "execution_count": 69,
     "metadata": {},
     "output_type": "execute_result"
    }
   ],
   "source": [
    "df['Residential Type'].value_counts()"
   ]
  },
  {
   "cell_type": "code",
   "execution_count": 74,
   "id": "5a51069e-d383-4819-a7b9-c7116605da38",
   "metadata": {},
   "outputs": [
    {
     "data": {
      "text/plain": [
       "660271"
      ]
     },
     "execution_count": 74,
     "metadata": {},
     "output_type": "execute_result"
    }
   ],
   "source": [
    "df['Residential Type'].count()"
   ]
  },
  {
   "cell_type": "code",
   "execution_count": 75,
   "id": "f3c8f1ff-41b4-4219-a8e0-bf607c752ec4",
   "metadata": {},
   "outputs": [
    {
     "data": {
      "text/plain": [
       "671709"
      ]
     },
     "execution_count": 75,
     "metadata": {},
     "output_type": "execute_result"
    }
   ],
   "source": [
    "df['Property Type'].count()"
   ]
  },
  {
   "cell_type": "code",
   "execution_count": 76,
   "id": "22a04f75-519e-4bd1-a295-c33c68d4609c",
   "metadata": {},
   "outputs": [
    {
     "data": {
      "text/plain": [
       "393837"
      ]
     },
     "execution_count": 76,
     "metadata": {},
     "output_type": "execute_result"
    }
   ],
   "source": [
    "df['Residential Type'].isna().sum()"
   ]
  },
  {
   "cell_type": "code",
   "execution_count": 78,
   "id": "0c523005-f5cf-4297-ac85-621c9252e06f",
   "metadata": {},
   "outputs": [
    {
     "data": {
      "text/html": [
       "<div>\n",
       "<style scoped>\n",
       "    .dataframe tbody tr th:only-of-type {\n",
       "        vertical-align: middle;\n",
       "    }\n",
       "\n",
       "    .dataframe tbody tr th {\n",
       "        vertical-align: top;\n",
       "    }\n",
       "\n",
       "    .dataframe thead th {\n",
       "        text-align: right;\n",
       "    }\n",
       "</style>\n",
       "<table border=\"1\" class=\"dataframe\">\n",
       "  <thead>\n",
       "    <tr style=\"text-align: right;\">\n",
       "      <th></th>\n",
       "      <th>Serial Number</th>\n",
       "      <th>List Year</th>\n",
       "      <th>Date Recorded</th>\n",
       "      <th>Town</th>\n",
       "      <th>Address</th>\n",
       "      <th>Assessed Value</th>\n",
       "      <th>Sale Amount</th>\n",
       "      <th>Sales Ratio</th>\n",
       "      <th>Property Type</th>\n",
       "      <th>Residential Type</th>\n",
       "    </tr>\n",
       "  </thead>\n",
       "  <tbody>\n",
       "    <tr>\n",
       "      <th>58</th>\n",
       "      <td>10095</td>\n",
       "      <td>2001</td>\n",
       "      <td>2001-11-16</td>\n",
       "      <td>Farmington</td>\n",
       "      <td>5 SPARROW LN</td>\n",
       "      <td>67670.0</td>\n",
       "      <td>302866.0</td>\n",
       "      <td>0.223432</td>\n",
       "      <td>NaN</td>\n",
       "      <td>NaN</td>\n",
       "    </tr>\n",
       "    <tr>\n",
       "      <th>60</th>\n",
       "      <td>11238</td>\n",
       "      <td>2001</td>\n",
       "      <td>2002-08-30</td>\n",
       "      <td>Bethel</td>\n",
       "      <td>50 FOURTH ST</td>\n",
       "      <td>76450.0</td>\n",
       "      <td>50000.0</td>\n",
       "      <td>1.529000</td>\n",
       "      <td>NaN</td>\n",
       "      <td>NaN</td>\n",
       "    </tr>\n",
       "    <tr>\n",
       "      <th>61</th>\n",
       "      <td>10035</td>\n",
       "      <td>2001</td>\n",
       "      <td>2002-06-28</td>\n",
       "      <td>Chaplin</td>\n",
       "      <td>FEDERAL RD</td>\n",
       "      <td>19000.0</td>\n",
       "      <td>35000.0</td>\n",
       "      <td>0.542857</td>\n",
       "      <td>NaN</td>\n",
       "      <td>NaN</td>\n",
       "    </tr>\n",
       "    <tr>\n",
       "      <th>62</th>\n",
       "      <td>10115</td>\n",
       "      <td>2001</td>\n",
       "      <td>2002-02-01</td>\n",
       "      <td>Clinton</td>\n",
       "      <td>42 PRATT RD</td>\n",
       "      <td>121900.0</td>\n",
       "      <td>230000.0</td>\n",
       "      <td>0.530000</td>\n",
       "      <td>NaN</td>\n",
       "      <td>NaN</td>\n",
       "    </tr>\n",
       "    <tr>\n",
       "      <th>71</th>\n",
       "      <td>10041</td>\n",
       "      <td>2001</td>\n",
       "      <td>2002-07-17</td>\n",
       "      <td>Eastford</td>\n",
       "      <td>WESTFORD RD</td>\n",
       "      <td>180.0</td>\n",
       "      <td>5000.0</td>\n",
       "      <td>0.036000</td>\n",
       "      <td>NaN</td>\n",
       "      <td>NaN</td>\n",
       "    </tr>\n",
       "    <tr>\n",
       "      <th>...</th>\n",
       "      <td>...</td>\n",
       "      <td>...</td>\n",
       "      <td>...</td>\n",
       "      <td>...</td>\n",
       "      <td>...</td>\n",
       "      <td>...</td>\n",
       "      <td>...</td>\n",
       "      <td>...</td>\n",
       "      <td>...</td>\n",
       "      <td>...</td>\n",
       "    </tr>\n",
       "    <tr>\n",
       "      <th>1054103</th>\n",
       "      <td>19150</td>\n",
       "      <td>2019</td>\n",
       "      <td>2020-01-13</td>\n",
       "      <td>Newtown</td>\n",
       "      <td>22 WASHINGTON AVENUE</td>\n",
       "      <td>53640.0</td>\n",
       "      <td>122500.0</td>\n",
       "      <td>0.437900</td>\n",
       "      <td>NaN</td>\n",
       "      <td>NaN</td>\n",
       "    </tr>\n",
       "    <tr>\n",
       "      <th>1054111</th>\n",
       "      <td>190242</td>\n",
       "      <td>2019</td>\n",
       "      <td>2020-09-18</td>\n",
       "      <td>Weston</td>\n",
       "      <td>OLD HYDE ROAD</td>\n",
       "      <td>181440.0</td>\n",
       "      <td>150000.0</td>\n",
       "      <td>1.209600</td>\n",
       "      <td>NaN</td>\n",
       "      <td>NaN</td>\n",
       "    </tr>\n",
       "    <tr>\n",
       "      <th>1054112</th>\n",
       "      <td>19000067</td>\n",
       "      <td>2019</td>\n",
       "      <td>2020-05-19</td>\n",
       "      <td>New Hartford</td>\n",
       "      <td>LOT 2 DINGS RD</td>\n",
       "      <td>87955.0</td>\n",
       "      <td>35000.0</td>\n",
       "      <td>2.513000</td>\n",
       "      <td>NaN</td>\n",
       "      <td>NaN</td>\n",
       "    </tr>\n",
       "    <tr>\n",
       "      <th>1054120</th>\n",
       "      <td>190713</td>\n",
       "      <td>2019</td>\n",
       "      <td>2020-06-01</td>\n",
       "      <td>New Haven</td>\n",
       "      <td>1083 WHALLEY AV</td>\n",
       "      <td>262220.0</td>\n",
       "      <td>325000.0</td>\n",
       "      <td>0.806800</td>\n",
       "      <td>NaN</td>\n",
       "      <td>NaN</td>\n",
       "    </tr>\n",
       "    <tr>\n",
       "      <th>1054158</th>\n",
       "      <td>190344</td>\n",
       "      <td>2019</td>\n",
       "      <td>2019-12-20</td>\n",
       "      <td>Milford</td>\n",
       "      <td>250 RESEARCH DR</td>\n",
       "      <td>4035970.0</td>\n",
       "      <td>7450000.0</td>\n",
       "      <td>0.541700</td>\n",
       "      <td>NaN</td>\n",
       "      <td>NaN</td>\n",
       "    </tr>\n",
       "  </tbody>\n",
       "</table>\n",
       "<p>382399 rows × 10 columns</p>\n",
       "</div>"
      ],
      "text/plain": [
       "        Serial Number List Year Date Recorded          Town  \\\n",
       "58              10095      2001    2001-11-16    Farmington   \n",
       "60              11238      2001    2002-08-30        Bethel   \n",
       "61              10035      2001    2002-06-28       Chaplin   \n",
       "62              10115      2001    2002-02-01       Clinton   \n",
       "71              10041      2001    2002-07-17      Eastford   \n",
       "...               ...       ...           ...           ...   \n",
       "1054103         19150      2019    2020-01-13       Newtown   \n",
       "1054111        190242      2019    2020-09-18        Weston   \n",
       "1054112      19000067      2019    2020-05-19  New Hartford   \n",
       "1054120        190713      2019    2020-06-01     New Haven   \n",
       "1054158        190344      2019    2019-12-20       Milford   \n",
       "\n",
       "                      Address  Assessed Value  Sale Amount  Sales Ratio  \\\n",
       "58               5 SPARROW LN         67670.0     302866.0     0.223432   \n",
       "60               50 FOURTH ST         76450.0      50000.0     1.529000   \n",
       "61                 FEDERAL RD         19000.0      35000.0     0.542857   \n",
       "62                42 PRATT RD        121900.0     230000.0     0.530000   \n",
       "71                WESTFORD RD           180.0       5000.0     0.036000   \n",
       "...                       ...             ...          ...          ...   \n",
       "1054103  22 WASHINGTON AVENUE         53640.0     122500.0     0.437900   \n",
       "1054111         OLD HYDE ROAD        181440.0     150000.0     1.209600   \n",
       "1054112        LOT 2 DINGS RD         87955.0      35000.0     2.513000   \n",
       "1054120       1083 WHALLEY AV        262220.0     325000.0     0.806800   \n",
       "1054158       250 RESEARCH DR       4035970.0    7450000.0     0.541700   \n",
       "\n",
       "        Property Type Residential Type  \n",
       "58                NaN              NaN  \n",
       "60                NaN              NaN  \n",
       "61                NaN              NaN  \n",
       "62                NaN              NaN  \n",
       "71                NaN              NaN  \n",
       "...               ...              ...  \n",
       "1054103           NaN              NaN  \n",
       "1054111           NaN              NaN  \n",
       "1054112           NaN              NaN  \n",
       "1054120           NaN              NaN  \n",
       "1054158           NaN              NaN  \n",
       "\n",
       "[382399 rows x 10 columns]"
      ]
     },
     "execution_count": 78,
     "metadata": {},
     "output_type": "execute_result"
    }
   ],
   "source": [
    "df[df['Property Type'].isna()]"
   ]
  },
  {
   "cell_type": "markdown",
   "id": "e2cf3ac6-30b6-46b5-ba72-69aedf1cfc19",
   "metadata": {},
   "source": [
    "After inspecting the 'Property Type' and 'Residential Type' column, we discovered that both columns contain a lot of the same information. We also discovered that a lot of the null values in the 'Property Type' column are missing from the 'Residential Type' column for the rows representing non-residential types of property. The vast majority of data points represented in both columns are from residential types of properties for both columns. For our research purposes we are going to focus predominantly on residential properties. We need to keep one of these features. "
   ]
  },
  {
   "cell_type": "code",
   "execution_count": 84,
   "id": "a07fd1fb-c238-48e1-b686-3284bd40be89",
   "metadata": {},
   "outputs": [
    {
     "data": {
      "text/html": [
       "<div>\n",
       "<style scoped>\n",
       "    .dataframe tbody tr th:only-of-type {\n",
       "        vertical-align: middle;\n",
       "    }\n",
       "\n",
       "    .dataframe tbody tr th {\n",
       "        vertical-align: top;\n",
       "    }\n",
       "\n",
       "    .dataframe thead th {\n",
       "        text-align: right;\n",
       "    }\n",
       "</style>\n",
       "<table border=\"1\" class=\"dataframe\">\n",
       "  <thead>\n",
       "    <tr style=\"text-align: right;\">\n",
       "      <th></th>\n",
       "      <th>Serial Number</th>\n",
       "      <th>List Year</th>\n",
       "      <th>Date Recorded</th>\n",
       "      <th>Town</th>\n",
       "      <th>Address</th>\n",
       "      <th>Assessed Value</th>\n",
       "      <th>Sale Amount</th>\n",
       "      <th>Sales Ratio</th>\n",
       "      <th>Residential Type</th>\n",
       "    </tr>\n",
       "  </thead>\n",
       "  <tbody>\n",
       "    <tr>\n",
       "      <th>0</th>\n",
       "      <td>2020348</td>\n",
       "      <td>2020</td>\n",
       "      <td>2021-09-13</td>\n",
       "      <td>Ansonia</td>\n",
       "      <td>230 WAKELEE AVE</td>\n",
       "      <td>150500.0</td>\n",
       "      <td>325000.0</td>\n",
       "      <td>0.4630</td>\n",
       "      <td>NaN</td>\n",
       "    </tr>\n",
       "    <tr>\n",
       "      <th>1</th>\n",
       "      <td>20002</td>\n",
       "      <td>2020</td>\n",
       "      <td>2020-10-02</td>\n",
       "      <td>Ashford</td>\n",
       "      <td>390 TURNPIKE RD</td>\n",
       "      <td>253000.0</td>\n",
       "      <td>430000.0</td>\n",
       "      <td>0.5883</td>\n",
       "      <td>Single Family</td>\n",
       "    </tr>\n",
       "    <tr>\n",
       "      <th>2</th>\n",
       "      <td>210317</td>\n",
       "      <td>2021</td>\n",
       "      <td>2022-07-05</td>\n",
       "      <td>Avon</td>\n",
       "      <td>53 COTSWOLD WAY</td>\n",
       "      <td>329730.0</td>\n",
       "      <td>805000.0</td>\n",
       "      <td>0.4096</td>\n",
       "      <td>Single Family</td>\n",
       "    </tr>\n",
       "    <tr>\n",
       "      <th>3</th>\n",
       "      <td>200212</td>\n",
       "      <td>2020</td>\n",
       "      <td>2021-03-09</td>\n",
       "      <td>Avon</td>\n",
       "      <td>5 CHESTNUT DRIVE</td>\n",
       "      <td>130400.0</td>\n",
       "      <td>179900.0</td>\n",
       "      <td>0.7248</td>\n",
       "      <td>Condo</td>\n",
       "    </tr>\n",
       "    <tr>\n",
       "      <th>4</th>\n",
       "      <td>200243</td>\n",
       "      <td>2020</td>\n",
       "      <td>2021-04-13</td>\n",
       "      <td>Avon</td>\n",
       "      <td>111 NORTHINGTON DRIVE</td>\n",
       "      <td>619290.0</td>\n",
       "      <td>890000.0</td>\n",
       "      <td>0.6958</td>\n",
       "      <td>Single Family</td>\n",
       "    </tr>\n",
       "  </tbody>\n",
       "</table>\n",
       "</div>"
      ],
      "text/plain": [
       "  Serial Number List Year Date Recorded     Town                Address  \\\n",
       "0       2020348      2020    2021-09-13  Ansonia        230 WAKELEE AVE   \n",
       "1         20002      2020    2020-10-02  Ashford        390 TURNPIKE RD   \n",
       "2        210317      2021    2022-07-05     Avon        53 COTSWOLD WAY   \n",
       "3        200212      2020    2021-03-09     Avon       5 CHESTNUT DRIVE   \n",
       "4        200243      2020    2021-04-13     Avon  111 NORTHINGTON DRIVE   \n",
       "\n",
       "   Assessed Value  Sale Amount  Sales Ratio Residential Type  \n",
       "0        150500.0     325000.0       0.4630              NaN  \n",
       "1        253000.0     430000.0       0.5883    Single Family  \n",
       "2        329730.0     805000.0       0.4096    Single Family  \n",
       "3        130400.0     179900.0       0.7248            Condo  \n",
       "4        619290.0     890000.0       0.6958    Single Family  "
      ]
     },
     "execution_count": 84,
     "metadata": {},
     "output_type": "execute_result"
    }
   ],
   "source": [
    "df.drop('Property Type', axis=1, inplace=True)\n",
    "df.head()"
   ]
  },
  {
   "cell_type": "markdown",
   "id": "f0bb9f91-581b-42e0-aa43-f61be9f4e40e",
   "metadata": {},
   "source": [
    "Next steps: Clean 'Residential Type' column. Investigate price fluctuations between multi-family and single family homes and maybe use average price to impute/map housing types na values."
   ]
  },
  {
   "cell_type": "code",
   "execution_count": null,
   "id": "799e69fa-8c14-4add-b1a2-3dc28a88d4ac",
   "metadata": {},
   "outputs": [],
   "source": []
  },
  {
   "cell_type": "code",
   "execution_count": 97,
   "id": "8e269650-57ff-4980-84b1-5605e28d4001",
   "metadata": {},
   "outputs": [
    {
     "data": {
      "text/plain": [
       "count            660271\n",
       "unique                5\n",
       "top       Single Family\n",
       "freq             480564\n",
       "Name: Residential Type, dtype: object"
      ]
     },
     "execution_count": 97,
     "metadata": {},
     "output_type": "execute_result"
    }
   ],
   "source": [
    "df['Residential Type'].fillna()"
   ]
  },
  {
   "cell_type": "code",
   "execution_count": 90,
   "id": "a4dad618-53a0-4ec3-ae61-c4496b9721e6",
   "metadata": {},
   "outputs": [
    {
     "data": {
      "text/plain": [
       "<Axes: xlabel='Sale Amount', ylabel='Residential Type'>"
      ]
     },
     "execution_count": 90,
     "metadata": {},
     "output_type": "execute_result"
    },
    {
     "data": {
      "image/png": "[encoded data removed]",
      "text/plain": [
       "<Figure size 640x480 with 1 Axes>"
      ]
     },
     "metadata": {},
     "output_type": "display_data"
    }
   ],
   "source": [
    "sns.boxplot(df, x='Sale Amount', y='Residential Type')"
   ]
  },
  {
   "cell_type": "code",
   "execution_count": null,
   "id": "a664b49c-563c-4439-bfc3-a776512e397d",
   "metadata": {},
   "outputs": [],
   "source": []
  },
  {
   "cell_type": "markdown",
   "id": "a90aaaaf-7797-4575-9c62-923c495e900e",
   "metadata": {},
   "source": [
    "Finally, let's sort our rows by the 'Date Recorded'"
   ]
  },
  {
   "cell_type": "code",
   "execution_count": 28,
   "id": "d6d93b50-48ab-4a46-8741-1c9038e3fd5a",
   "metadata": {},
   "outputs": [
    {
     "data": {
      "text/html": [
       "<div>\n",
       "<style scoped>\n",
       "    .dataframe tbody tr th:only-of-type {\n",
       "        vertical-align: middle;\n",
       "    }\n",
       "\n",
       "    .dataframe tbody tr th {\n",
       "        vertical-align: top;\n",
       "    }\n",
       "\n",
       "    .dataframe thead th {\n",
       "        text-align: right;\n",
       "    }\n",
       "</style>\n",
       "<table border=\"1\" class=\"dataframe\">\n",
       "  <thead>\n",
       "    <tr style=\"text-align: right;\">\n",
       "      <th></th>\n",
       "      <th>Serial Number</th>\n",
       "      <th>List Year</th>\n",
       "      <th>Date Recorded</th>\n",
       "      <th>Town</th>\n",
       "      <th>Address</th>\n",
       "      <th>Assessed Value</th>\n",
       "      <th>Sale Amount</th>\n",
       "      <th>Sales Ratio</th>\n",
       "      <th>Property Type</th>\n",
       "      <th>Residential Type</th>\n",
       "    </tr>\n",
       "  </thead>\n",
       "  <tbody>\n",
       "    <tr>\n",
       "      <th>914857</th>\n",
       "      <td>170177</td>\n",
       "      <td>2017</td>\n",
       "      <td>1999-04-05</td>\n",
       "      <td>New London</td>\n",
       "      <td>184 PEQUOT AVE 309</td>\n",
       "      <td>46690.0</td>\n",
       "      <td>95000.0</td>\n",
       "      <td>0.491400</td>\n",
       "      <td>Condo</td>\n",
       "      <td>Condo</td>\n",
       "    </tr>\n",
       "    <tr>\n",
       "      <th>935392</th>\n",
       "      <td>173165</td>\n",
       "      <td>2017</td>\n",
       "      <td>2001-08-01</td>\n",
       "      <td>Shelton</td>\n",
       "      <td>19 BLACKBERRY LA</td>\n",
       "      <td>390810.0</td>\n",
       "      <td>635000.0</td>\n",
       "      <td>0.615449</td>\n",
       "      <td>Single Family</td>\n",
       "      <td>Single Family</td>\n",
       "    </tr>\n",
       "    <tr>\n",
       "      <th>939157</th>\n",
       "      <td>173202</td>\n",
       "      <td>2017</td>\n",
       "      <td>2001-08-23</td>\n",
       "      <td>Shelton</td>\n",
       "      <td>12 BOYSENBERRY LA</td>\n",
       "      <td>427910.0</td>\n",
       "      <td>558000.0</td>\n",
       "      <td>0.766864</td>\n",
       "      <td>Single Family</td>\n",
       "      <td>Single Family</td>\n",
       "    </tr>\n",
       "    <tr>\n",
       "      <th>446646</th>\n",
       "      <td>60626</td>\n",
       "      <td>2006</td>\n",
       "      <td>2001-09-04</td>\n",
       "      <td>Newington</td>\n",
       "      <td>110 MOYLAN CT</td>\n",
       "      <td>64750.0</td>\n",
       "      <td>88000.0</td>\n",
       "      <td>0.735795</td>\n",
       "      <td>Condo</td>\n",
       "      <td>Condo</td>\n",
       "    </tr>\n",
       "    <tr>\n",
       "      <th>487150</th>\n",
       "      <td>60631</td>\n",
       "      <td>2006</td>\n",
       "      <td>2001-09-05</td>\n",
       "      <td>Newington</td>\n",
       "      <td>48 EVERGREEN RD</td>\n",
       "      <td>166110.0</td>\n",
       "      <td>256000.0</td>\n",
       "      <td>0.648867</td>\n",
       "      <td>Single Family</td>\n",
       "      <td>Single Family</td>\n",
       "    </tr>\n",
       "  </tbody>\n",
       "</table>\n",
       "</div>"
      ],
      "text/plain": [
       "       Serial Number List Year Date Recorded        Town             Address  \\\n",
       "914857        170177      2017    1999-04-05  New London  184 PEQUOT AVE 309   \n",
       "935392        173165      2017    2001-08-01     Shelton    19 BLACKBERRY LA   \n",
       "939157        173202      2017    2001-08-23     Shelton   12 BOYSENBERRY LA   \n",
       "446646         60626      2006    2001-09-04   Newington       110 MOYLAN CT   \n",
       "487150         60631      2006    2001-09-05   Newington     48 EVERGREEN RD   \n",
       "\n",
       "        Assessed Value  Sale Amount  Sales Ratio  Property Type  \\\n",
       "914857         46690.0      95000.0     0.491400          Condo   \n",
       "935392        390810.0     635000.0     0.615449  Single Family   \n",
       "939157        427910.0     558000.0     0.766864  Single Family   \n",
       "446646         64750.0      88000.0     0.735795          Condo   \n",
       "487150        166110.0     256000.0     0.648867  Single Family   \n",
       "\n",
       "       Residential Type  \n",
       "914857            Condo  \n",
       "935392    Single Family  \n",
       "939157    Single Family  \n",
       "446646            Condo  \n",
       "487150    Single Family  "
      ]
     },
     "metadata": {},
     "output_type": "display_data"
    },
    {
     "data": {
      "text/html": [
       "<div>\n",
       "<style scoped>\n",
       "    .dataframe tbody tr th:only-of-type {\n",
       "        vertical-align: middle;\n",
       "    }\n",
       "\n",
       "    .dataframe tbody tr th {\n",
       "        vertical-align: top;\n",
       "    }\n",
       "\n",
       "    .dataframe thead th {\n",
       "        text-align: right;\n",
       "    }\n",
       "</style>\n",
       "<table border=\"1\" class=\"dataframe\">\n",
       "  <thead>\n",
       "    <tr style=\"text-align: right;\">\n",
       "      <th></th>\n",
       "      <th>Serial Number</th>\n",
       "      <th>List Year</th>\n",
       "      <th>Date Recorded</th>\n",
       "      <th>Town</th>\n",
       "      <th>Address</th>\n",
       "      <th>Assessed Value</th>\n",
       "      <th>Sale Amount</th>\n",
       "      <th>Sales Ratio</th>\n",
       "      <th>Property Type</th>\n",
       "      <th>Residential Type</th>\n",
       "    </tr>\n",
       "  </thead>\n",
       "  <tbody>\n",
       "    <tr>\n",
       "      <th>90928</th>\n",
       "      <td>211396</td>\n",
       "      <td>2021</td>\n",
       "      <td>2022-09-30</td>\n",
       "      <td>Bristol</td>\n",
       "      <td>282 MECHANIC ST</td>\n",
       "      <td>100870.0</td>\n",
       "      <td>156300.0</td>\n",
       "      <td>0.645300</td>\n",
       "      <td>Residential</td>\n",
       "      <td>Single Family</td>\n",
       "    </tr>\n",
       "    <tr>\n",
       "      <th>121291</th>\n",
       "      <td>211382</td>\n",
       "      <td>2021</td>\n",
       "      <td>2022-09-30</td>\n",
       "      <td>West Haven</td>\n",
       "      <td>108 HOOD TER</td>\n",
       "      <td>36190.0</td>\n",
       "      <td>50000.0</td>\n",
       "      <td>0.723800</td>\n",
       "      <td>Vacant Land</td>\n",
       "      <td>NaN</td>\n",
       "    </tr>\n",
       "    <tr>\n",
       "      <th>106131</th>\n",
       "      <td>211017</td>\n",
       "      <td>2021</td>\n",
       "      <td>2022-09-30</td>\n",
       "      <td>Norwich</td>\n",
       "      <td>3 SABRINAS CT</td>\n",
       "      <td>31400.0</td>\n",
       "      <td>22500.0</td>\n",
       "      <td>1.395556</td>\n",
       "      <td>Vacant Land</td>\n",
       "      <td>NaN</td>\n",
       "    </tr>\n",
       "    <tr>\n",
       "      <th>117871</th>\n",
       "      <td>211322</td>\n",
       "      <td>2021</td>\n",
       "      <td>2022-09-30</td>\n",
       "      <td>West Hartford</td>\n",
       "      <td>47 WOOD POND ROAD</td>\n",
       "      <td>271408.0</td>\n",
       "      <td>700000.0</td>\n",
       "      <td>0.387700</td>\n",
       "      <td>Residential</td>\n",
       "      <td>Single Family</td>\n",
       "    </tr>\n",
       "    <tr>\n",
       "      <th>123649</th>\n",
       "      <td>211386</td>\n",
       "      <td>2021</td>\n",
       "      <td>2022-09-30</td>\n",
       "      <td>West Haven</td>\n",
       "      <td>68 HOOD TER</td>\n",
       "      <td>38500.0</td>\n",
       "      <td>375000.0</td>\n",
       "      <td>0.102600</td>\n",
       "      <td>Vacant Land</td>\n",
       "      <td>NaN</td>\n",
       "    </tr>\n",
       "  </tbody>\n",
       "</table>\n",
       "</div>"
      ],
      "text/plain": [
       "       Serial Number List Year Date Recorded           Town  \\\n",
       "90928         211396      2021    2022-09-30        Bristol   \n",
       "121291        211382      2021    2022-09-30     West Haven   \n",
       "106131        211017      2021    2022-09-30        Norwich   \n",
       "117871        211322      2021    2022-09-30  West Hartford   \n",
       "123649        211386      2021    2022-09-30     West Haven   \n",
       "\n",
       "                  Address  Assessed Value  Sale Amount  Sales Ratio  \\\n",
       "90928     282 MECHANIC ST        100870.0     156300.0     0.645300   \n",
       "121291       108 HOOD TER         36190.0      50000.0     0.723800   \n",
       "106131      3 SABRINAS CT         31400.0      22500.0     1.395556   \n",
       "117871  47 WOOD POND ROAD        271408.0     700000.0     0.387700   \n",
       "123649        68 HOOD TER         38500.0     375000.0     0.102600   \n",
       "\n",
       "       Property Type Residential Type  \n",
       "90928    Residential    Single Family  \n",
       "121291   Vacant Land              NaN  \n",
       "106131   Vacant Land              NaN  \n",
       "117871   Residential    Single Family  \n",
       "123649   Vacant Land              NaN  "
      ]
     },
     "metadata": {},
     "output_type": "display_data"
    }
   ],
   "source": [
    "sorted_df = df.sort_values(by='Date Recorded')\n",
    "display(sorted_df.head())\n",
    "display(sorted_df.tail())"
   ]
  }
 ],
 "metadata": {
  "kernelspec": {
   "display_name": "Python 3 (ipykernel)",
   "language": "python",
   "name": "python3"
  },
  "language_info": {
   "codemirror_mode": {
    "name": "ipython",
    "version": 3
   },
   "file_extension": ".py",
   "mimetype": "text/x-python",
   "name": "python",
   "nbconvert_exporter": "python",
   "pygments_lexer": "ipython3",
   "version": "3.11.6"
  }
 },
 "nbformat": 4,
 "nbformat_minor": 5
}
