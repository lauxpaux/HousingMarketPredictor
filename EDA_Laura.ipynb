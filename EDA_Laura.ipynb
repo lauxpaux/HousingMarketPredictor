{
 "cells": [
  {
   "cell_type": "markdown",
   "id": "8fde482e-3c25-4758-91b9-48221d21d9ac",
   "metadata": {},
   "source": [
    "## Predicting Home Prices in Connecticut"
   ]
  },
  {
   "cell_type": "markdown",
   "id": "bbb9a8dd-6706-4f12-8b7b-679750a7505b",
   "metadata": {},
   "source": [
    "In this project, we will be performing varies predictive modeling techniques to predict the 'Sale Amount' of homes in Connecticut in the future. \n",
    "\n",
    "We will train and analyze several predictive models for this task, including but not limited to:\n",
    "* Linear Regression (Regression)\n",
    "* Time Series (Forecasting)\n",
    "* Neural Networks (Deep Learning)"
   ]
  },
  {
   "cell_type": "markdown",
   "id": "7280d03b-9509-48c4-aca6-d85a45ac3130",
   "metadata": {},
   "source": [
    "### Motivation:\n",
    "\n",
    "The uncertainty of the housing market is a major point of concern for the millennial and younger generations. Housing market prices are well above affordable levels for most people, with homes selling at much higher Sales Ratio than in the past. We are curious to see if trends can be found in this longitudinal data, which encompasses nearly 20 years of sale prices. This data was particularly of interest because it captures the previous  most recent housing market crash of 2008. We aim to teach our models the fluctuations between home prices and produce predictive outcomes for where the future of the housing market is headed based on the historical trends found. "
   ]
  },
  {
   "cell_type": "markdown",
   "id": "5592e774-f128-472b-ba9f-1dcbed3ebdfa",
   "metadata": {},
   "source": [
    "### The Data:"
   ]
  },
  {
   "cell_type": "markdown",
   "id": "02c76e6a-3f24-4524-814e-5947f180e330",
   "metadata": {},
   "source": [
    "The data used in this project was sourced from the state of Connecticut via \n",
    "(data.ct.gov)['https://catalog.data.gov/dataset/real-estate-sales-2001-2018']. The data is free and open for public use. It contains Real Estate sells from 2001-2021."
   ]
  },
  {
   "cell_type": "code",
   "execution_count": 1,
   "id": "3d4caf8e-562d-4bb6-90b0-243d4d994eef",
   "metadata": {},
   "outputs": [],
   "source": [
    "import pandas as pd\n",
    "import numpy as np\n",
    "import matplotlib as plt\n",
    "import seaborn as sns\n",
    "\n",
    "import warnings\n",
    "warnings.filterwarnings(\"ignore\")"
   ]
  },
  {
   "cell_type": "code",
   "execution_count": 2,
   "id": "8e17492b-ecf9-4734-90f0-1ea77a607f39",
   "metadata": {},
   "outputs": [],
   "source": [
    "df = pd.read_csv('data/Real_Estate_Sales_2001-2021_GL.csv')"
   ]
  },
  {
   "cell_type": "markdown",
   "id": "0cdd3f65-8614-49ee-9708-1749f9b8b349",
   "metadata": {},
   "source": [
    "### Data Peeking:"
   ]
  },
  {
   "cell_type": "code",
   "execution_count": 3,
   "id": "7f9eacd4-b510-41e4-9267-319811d02295",
   "metadata": {},
   "outputs": [
    {
     "data": {
      "text/html": [
       "<div>\n",
       "<style scoped>\n",
       "    .dataframe tbody tr th:only-of-type {\n",
       "        vertical-align: middle;\n",
       "    }\n",
       "\n",
       "    .dataframe tbody tr th {\n",
       "        vertical-align: top;\n",
       "    }\n",
       "\n",
       "    .dataframe thead th {\n",
       "        text-align: right;\n",
       "    }\n",
       "</style>\n",
       "<table border=\"1\" class=\"dataframe\">\n",
       "  <thead>\n",
       "    <tr style=\"text-align: right;\">\n",
       "      <th></th>\n",
       "      <th>Serial Number</th>\n",
       "      <th>List Year</th>\n",
       "      <th>Date Recorded</th>\n",
       "      <th>Town</th>\n",
       "      <th>Address</th>\n",
       "      <th>Assessed Value</th>\n",
       "      <th>Sale Amount</th>\n",
       "      <th>Sales Ratio</th>\n",
       "      <th>Property Type</th>\n",
       "      <th>Residential Type</th>\n",
       "      <th>Non Use Code</th>\n",
       "      <th>Assessor Remarks</th>\n",
       "      <th>OPM remarks</th>\n",
       "      <th>Location</th>\n",
       "    </tr>\n",
       "  </thead>\n",
       "  <tbody>\n",
       "    <tr>\n",
       "      <th>0</th>\n",
       "      <td>2020348</td>\n",
       "      <td>2020</td>\n",
       "      <td>09/13/2021</td>\n",
       "      <td>Ansonia</td>\n",
       "      <td>230 WAKELEE AVE</td>\n",
       "      <td>150500.0</td>\n",
       "      <td>325000.0</td>\n",
       "      <td>0.4630</td>\n",
       "      <td>Commercial</td>\n",
       "      <td>NaN</td>\n",
       "      <td>NaN</td>\n",
       "      <td>NaN</td>\n",
       "      <td>NaN</td>\n",
       "      <td>NaN</td>\n",
       "    </tr>\n",
       "    <tr>\n",
       "      <th>1</th>\n",
       "      <td>20002</td>\n",
       "      <td>2020</td>\n",
       "      <td>10/02/2020</td>\n",
       "      <td>Ashford</td>\n",
       "      <td>390 TURNPIKE RD</td>\n",
       "      <td>253000.0</td>\n",
       "      <td>430000.0</td>\n",
       "      <td>0.5883</td>\n",
       "      <td>Residential</td>\n",
       "      <td>Single Family</td>\n",
       "      <td>NaN</td>\n",
       "      <td>NaN</td>\n",
       "      <td>NaN</td>\n",
       "      <td>NaN</td>\n",
       "    </tr>\n",
       "    <tr>\n",
       "      <th>2</th>\n",
       "      <td>210317</td>\n",
       "      <td>2021</td>\n",
       "      <td>07/05/2022</td>\n",
       "      <td>Avon</td>\n",
       "      <td>53 COTSWOLD WAY</td>\n",
       "      <td>329730.0</td>\n",
       "      <td>805000.0</td>\n",
       "      <td>0.4096</td>\n",
       "      <td>Residential</td>\n",
       "      <td>Single Family</td>\n",
       "      <td>NaN</td>\n",
       "      <td>NaN</td>\n",
       "      <td>NaN</td>\n",
       "      <td>POINT (-72.846365959 41.781677018)</td>\n",
       "    </tr>\n",
       "    <tr>\n",
       "      <th>3</th>\n",
       "      <td>200212</td>\n",
       "      <td>2020</td>\n",
       "      <td>03/09/2021</td>\n",
       "      <td>Avon</td>\n",
       "      <td>5 CHESTNUT DRIVE</td>\n",
       "      <td>130400.0</td>\n",
       "      <td>179900.0</td>\n",
       "      <td>0.7248</td>\n",
       "      <td>Residential</td>\n",
       "      <td>Condo</td>\n",
       "      <td>NaN</td>\n",
       "      <td>NaN</td>\n",
       "      <td>NaN</td>\n",
       "      <td>NaN</td>\n",
       "    </tr>\n",
       "    <tr>\n",
       "      <th>4</th>\n",
       "      <td>200243</td>\n",
       "      <td>2020</td>\n",
       "      <td>04/13/2021</td>\n",
       "      <td>Avon</td>\n",
       "      <td>111 NORTHINGTON DRIVE</td>\n",
       "      <td>619290.0</td>\n",
       "      <td>890000.0</td>\n",
       "      <td>0.6958</td>\n",
       "      <td>Residential</td>\n",
       "      <td>Single Family</td>\n",
       "      <td>NaN</td>\n",
       "      <td>NaN</td>\n",
       "      <td>NaN</td>\n",
       "      <td>NaN</td>\n",
       "    </tr>\n",
       "  </tbody>\n",
       "</table>\n",
       "</div>"
      ],
      "text/plain": [
       "   Serial Number  List Year Date Recorded     Town                Address  \\\n",
       "0        2020348       2020    09/13/2021  Ansonia        230 WAKELEE AVE   \n",
       "1          20002       2020    10/02/2020  Ashford        390 TURNPIKE RD   \n",
       "2         210317       2021    07/05/2022     Avon        53 COTSWOLD WAY   \n",
       "3         200212       2020    03/09/2021     Avon       5 CHESTNUT DRIVE   \n",
       "4         200243       2020    04/13/2021     Avon  111 NORTHINGTON DRIVE   \n",
       "\n",
       "   Assessed Value  Sale Amount  Sales Ratio Property Type Residential Type  \\\n",
       "0        150500.0     325000.0       0.4630    Commercial              NaN   \n",
       "1        253000.0     430000.0       0.5883   Residential    Single Family   \n",
       "2        329730.0     805000.0       0.4096   Residential    Single Family   \n",
       "3        130400.0     179900.0       0.7248   Residential            Condo   \n",
       "4        619290.0     890000.0       0.6958   Residential    Single Family   \n",
       "\n",
       "  Non Use Code Assessor Remarks OPM remarks  \\\n",
       "0          NaN              NaN         NaN   \n",
       "1          NaN              NaN         NaN   \n",
       "2          NaN              NaN         NaN   \n",
       "3          NaN              NaN         NaN   \n",
       "4          NaN              NaN         NaN   \n",
       "\n",
       "                             Location  \n",
       "0                                 NaN  \n",
       "1                                 NaN  \n",
       "2  POINT (-72.846365959 41.781677018)  \n",
       "3                                 NaN  \n",
       "4                                 NaN  "
      ]
     },
     "execution_count": 3,
     "metadata": {},
     "output_type": "execute_result"
    }
   ],
   "source": [
    "df.head()"
   ]
  },
  {
   "cell_type": "code",
   "execution_count": 4,
   "id": "7770a3c8-b5a4-4118-8a41-3fa96176b4c6",
   "metadata": {},
   "outputs": [
    {
     "name": "stdout",
     "output_type": "stream",
     "text": [
      "<class 'pandas.core.frame.DataFrame'>\n",
      "RangeIndex: 1054159 entries, 0 to 1054158\n",
      "Data columns (total 14 columns):\n",
      " #   Column            Non-Null Count    Dtype  \n",
      "---  ------            --------------    -----  \n",
      " 0   Serial Number     1054159 non-null  int64  \n",
      " 1   List Year         1054159 non-null  int64  \n",
      " 2   Date Recorded     1054157 non-null  object \n",
      " 3   Town              1054159 non-null  object \n",
      " 4   Address           1054108 non-null  object \n",
      " 5   Assessed Value    1054159 non-null  float64\n",
      " 6   Sale Amount       1054159 non-null  float64\n",
      " 7   Sales Ratio       1054159 non-null  float64\n",
      " 8   Property Type     671713 non-null   object \n",
      " 9   Residential Type  660275 non-null   object \n",
      " 10  Non Use Code      302242 non-null   object \n",
      " 11  Assessor Remarks  161472 non-null   object \n",
      " 12  OPM remarks       11564 non-null    object \n",
      " 13  Location          254643 non-null   object \n",
      "dtypes: float64(3), int64(2), object(9)\n",
      "memory usage: 112.6+ MB\n"
     ]
    }
   ],
   "source": [
    "df.info()"
   ]
  },
  {
   "cell_type": "markdown",
   "id": "d62a424e-5c25-4e94-878d-bf90c7d622df",
   "metadata": {},
   "source": [
    "Looking at our dataset, we can see that most of the features are of type object, with the exception of 'Serial Number', 'List Year', 'Assessed Value', 'Sale Amount', and 'Sale Ratio'. We will need to perform some cateogrical imputing and other transformations for the rest of the features. \n",
    "\n",
    "We can also see that some columns are missing data. We will investigate and decide the best course of action on  this further."
   ]
  },
  {
   "cell_type": "code",
   "execution_count": 5,
   "id": "8035c9e2-bb6e-4599-a9dd-d40188ea1cf7",
   "metadata": {},
   "outputs": [
    {
     "data": {
      "text/html": [
       "<div>\n",
       "<style scoped>\n",
       "    .dataframe tbody tr th:only-of-type {\n",
       "        vertical-align: middle;\n",
       "    }\n",
       "\n",
       "    .dataframe tbody tr th {\n",
       "        vertical-align: top;\n",
       "    }\n",
       "\n",
       "    .dataframe thead th {\n",
       "        text-align: right;\n",
       "    }\n",
       "</style>\n",
       "<table border=\"1\" class=\"dataframe\">\n",
       "  <thead>\n",
       "    <tr style=\"text-align: right;\">\n",
       "      <th></th>\n",
       "      <th>count</th>\n",
       "      <th>mean</th>\n",
       "      <th>std</th>\n",
       "      <th>min</th>\n",
       "      <th>25%</th>\n",
       "      <th>50%</th>\n",
       "      <th>75%</th>\n",
       "      <th>max</th>\n",
       "    </tr>\n",
       "  </thead>\n",
       "  <tbody>\n",
       "    <tr>\n",
       "      <th>Serial Number</th>\n",
       "      <td>1054159.0</td>\n",
       "      <td>502713.979454</td>\n",
       "      <td>7.230239e+06</td>\n",
       "      <td>0.0</td>\n",
       "      <td>30552.000000</td>\n",
       "      <td>80080.000000</td>\n",
       "      <td>160815.5000</td>\n",
       "      <td>2.000500e+09</td>\n",
       "    </tr>\n",
       "    <tr>\n",
       "      <th>List Year</th>\n",
       "      <td>1054159.0</td>\n",
       "      <td>2010.773798</td>\n",
       "      <td>6.540711e+00</td>\n",
       "      <td>2001.0</td>\n",
       "      <td>2004.000000</td>\n",
       "      <td>2011.000000</td>\n",
       "      <td>2017.0000</td>\n",
       "      <td>2.021000e+03</td>\n",
       "    </tr>\n",
       "    <tr>\n",
       "      <th>Assessed Value</th>\n",
       "      <td>1054159.0</td>\n",
       "      <td>279741.565349</td>\n",
       "      <td>1.650117e+06</td>\n",
       "      <td>0.0</td>\n",
       "      <td>88450.000000</td>\n",
       "      <td>139580.000000</td>\n",
       "      <td>227000.0000</td>\n",
       "      <td>8.815100e+08</td>\n",
       "    </tr>\n",
       "    <tr>\n",
       "      <th>Sale Amount</th>\n",
       "      <td>1054159.0</td>\n",
       "      <td>399028.642515</td>\n",
       "      <td>5.229758e+06</td>\n",
       "      <td>0.0</td>\n",
       "      <td>142200.000000</td>\n",
       "      <td>230000.000000</td>\n",
       "      <td>370000.0000</td>\n",
       "      <td>5.000000e+09</td>\n",
       "    </tr>\n",
       "    <tr>\n",
       "      <th>Sales Ratio</th>\n",
       "      <td>1054159.0</td>\n",
       "      <td>9.953241</td>\n",
       "      <td>1.838434e+03</td>\n",
       "      <td>0.0</td>\n",
       "      <td>0.481601</td>\n",
       "      <td>0.616289</td>\n",
       "      <td>0.7764</td>\n",
       "      <td>1.226420e+06</td>\n",
       "    </tr>\n",
       "  </tbody>\n",
       "</table>\n",
       "</div>"
      ],
      "text/plain": [
       "                    count           mean           std     min            25%  \\\n",
       "Serial Number   1054159.0  502713.979454  7.230239e+06     0.0   30552.000000   \n",
       "List Year       1054159.0    2010.773798  6.540711e+00  2001.0    2004.000000   \n",
       "Assessed Value  1054159.0  279741.565349  1.650117e+06     0.0   88450.000000   \n",
       "Sale Amount     1054159.0  399028.642515  5.229758e+06     0.0  142200.000000   \n",
       "Sales Ratio     1054159.0       9.953241  1.838434e+03     0.0       0.481601   \n",
       "\n",
       "                          50%          75%           max  \n",
       "Serial Number    80080.000000  160815.5000  2.000500e+09  \n",
       "List Year         2011.000000    2017.0000  2.021000e+03  \n",
       "Assessed Value  139580.000000  227000.0000  8.815100e+08  \n",
       "Sale Amount     230000.000000  370000.0000  5.000000e+09  \n",
       "Sales Ratio          0.616289       0.7764  1.226420e+06  "
      ]
     },
     "execution_count": 5,
     "metadata": {},
     "output_type": "execute_result"
    }
   ],
   "source": [
    "df.describe().T"
   ]
  },
  {
   "cell_type": "markdown",
   "id": "974b48f5-4658-4612-b564-0bbb8b1df7aa",
   "metadata": {},
   "source": [
    "### Structuring Data\n",
    "Because the date and dimmension of time matters in this project, let's update the data types for the 'Date Recorded' as type datetime64, and sort our dataframe by the date."
   ]
  },
  {
   "cell_type": "code",
   "execution_count": 6,
   "id": "855ab5bc-224d-411b-b6a4-f215adc3d848",
   "metadata": {},
   "outputs": [],
   "source": [
    "df['Date Recorded'] = pd.to_datetime(df['Date Recorded'])"
   ]
  },
  {
   "cell_type": "code",
   "execution_count": 7,
   "id": "4b895a8d-15cd-45af-aeed-5dfa11e1b786",
   "metadata": {},
   "outputs": [
    {
     "name": "stdout",
     "output_type": "stream",
     "text": [
      "<class 'pandas.core.frame.DataFrame'>\n",
      "RangeIndex: 1054159 entries, 0 to 1054158\n",
      "Data columns (total 14 columns):\n",
      " #   Column            Non-Null Count    Dtype         \n",
      "---  ------            --------------    -----         \n",
      " 0   Serial Number     1054159 non-null  int64         \n",
      " 1   List Year         1054159 non-null  int64         \n",
      " 2   Date Recorded     1054157 non-null  datetime64[ns]\n",
      " 3   Town              1054159 non-null  object        \n",
      " 4   Address           1054108 non-null  object        \n",
      " 5   Assessed Value    1054159 non-null  float64       \n",
      " 6   Sale Amount       1054159 non-null  float64       \n",
      " 7   Sales Ratio       1054159 non-null  float64       \n",
      " 8   Property Type     671713 non-null   object        \n",
      " 9   Residential Type  660275 non-null   object        \n",
      " 10  Non Use Code      302242 non-null   object        \n",
      " 11  Assessor Remarks  161472 non-null   object        \n",
      " 12  OPM remarks       11564 non-null    object        \n",
      " 13  Location          254643 non-null   object        \n",
      "dtypes: datetime64[ns](1), float64(3), int64(2), object(8)\n",
      "memory usage: 112.6+ MB\n"
     ]
    }
   ],
   "source": [
    "df.info()"
   ]
  },
  {
   "cell_type": "code",
   "execution_count": 8,
   "id": "7935847b-7994-4795-b742-1d95fd03810c",
   "metadata": {},
   "outputs": [
    {
     "data": {
      "text/html": [
       "<div>\n",
       "<style scoped>\n",
       "    .dataframe tbody tr th:only-of-type {\n",
       "        vertical-align: middle;\n",
       "    }\n",
       "\n",
       "    .dataframe tbody tr th {\n",
       "        vertical-align: top;\n",
       "    }\n",
       "\n",
       "    .dataframe thead th {\n",
       "        text-align: right;\n",
       "    }\n",
       "</style>\n",
       "<table border=\"1\" class=\"dataframe\">\n",
       "  <thead>\n",
       "    <tr style=\"text-align: right;\">\n",
       "      <th></th>\n",
       "      <th>Serial Number</th>\n",
       "      <th>List Year</th>\n",
       "      <th>Date Recorded</th>\n",
       "      <th>Town</th>\n",
       "      <th>Address</th>\n",
       "      <th>Assessed Value</th>\n",
       "      <th>Sale Amount</th>\n",
       "      <th>Sales Ratio</th>\n",
       "      <th>Property Type</th>\n",
       "      <th>Residential Type</th>\n",
       "      <th>Non Use Code</th>\n",
       "      <th>Assessor Remarks</th>\n",
       "      <th>OPM remarks</th>\n",
       "      <th>Location</th>\n",
       "    </tr>\n",
       "  </thead>\n",
       "  <tbody>\n",
       "    <tr>\n",
       "      <th>31164</th>\n",
       "      <td>200055</td>\n",
       "      <td>2020</td>\n",
       "      <td>2021-01-01</td>\n",
       "      <td>Old Lyme</td>\n",
       "      <td>12 SWAN AVE</td>\n",
       "      <td>150500.0</td>\n",
       "      <td>265000.0</td>\n",
       "      <td>0.5679</td>\n",
       "      <td>Residential</td>\n",
       "      <td>Single Family</td>\n",
       "      <td>NaN</td>\n",
       "      <td>NaN</td>\n",
       "      <td>NaN</td>\n",
       "      <td>NaN</td>\n",
       "    </tr>\n",
       "    <tr>\n",
       "      <th>43861</th>\n",
       "      <td>20259</td>\n",
       "      <td>2020</td>\n",
       "      <td>2021-01-01</td>\n",
       "      <td>Ridgefield</td>\n",
       "      <td>59 LINCOLN LANE</td>\n",
       "      <td>686500.0</td>\n",
       "      <td>985000.0</td>\n",
       "      <td>0.6969</td>\n",
       "      <td>Residential</td>\n",
       "      <td>Single Family</td>\n",
       "      <td>NaN</td>\n",
       "      <td>NaN</td>\n",
       "      <td>NaN</td>\n",
       "      <td>POINT (-73.47906 41.27457)</td>\n",
       "    </tr>\n",
       "  </tbody>\n",
       "</table>\n",
       "</div>"
      ],
      "text/plain": [
       "       Serial Number  List Year Date Recorded        Town          Address  \\\n",
       "31164         200055       2020    2021-01-01    Old Lyme      12 SWAN AVE   \n",
       "43861          20259       2020    2021-01-01  Ridgefield  59 LINCOLN LANE   \n",
       "\n",
       "       Assessed Value  Sale Amount  Sales Ratio Property Type  \\\n",
       "31164        150500.0     265000.0       0.5679   Residential   \n",
       "43861        686500.0     985000.0       0.6969   Residential   \n",
       "\n",
       "      Residential Type Non Use Code Assessor Remarks OPM remarks  \\\n",
       "31164    Single Family          NaN              NaN         NaN   \n",
       "43861    Single Family          NaN              NaN         NaN   \n",
       "\n",
       "                         Location  \n",
       "31164                         NaN  \n",
       "43861  POINT (-73.47906 41.27457)  "
      ]
     },
     "execution_count": 8,
     "metadata": {},
     "output_type": "execute_result"
    }
   ],
   "source": [
    "df[df['Date Recorded'] == '2021']"
   ]
  },
  {
   "cell_type": "markdown",
   "id": "395007c0-ee05-4c36-a7e6-ee8dc7b5add6",
   "metadata": {},
   "source": [
    "The other column we need to structure is 'Serial Number' and 'List Year' which are currently of int64 data type. We know that the 'Serial Number' feature represents the home ID and that it is not actually a measure of anything. Not changing this feature can impact the calculations and assumptions we make when performing EDA. We will be casting both of these columns as an object instead. "
   ]
  },
  {
   "cell_type": "code",
   "execution_count": 9,
   "id": "46a3cb63-db9b-4752-8b16-477bea4379dc",
   "metadata": {},
   "outputs": [],
   "source": [
    "cols_to_convert = ['List Year', 'Serial Number']"
   ]
  },
  {
   "cell_type": "code",
   "execution_count": 10,
   "id": "b4e73521-cc60-43ce-936f-a001b6e1ef8d",
   "metadata": {},
   "outputs": [],
   "source": [
    "for col in cols_to_convert:\n",
    "    df[col] = df[col].astype('str')"
   ]
  },
  {
   "cell_type": "code",
   "execution_count": 11,
   "id": "b8580610-029f-4abe-b66e-84d8ef9a8054",
   "metadata": {},
   "outputs": [
    {
     "name": "stdout",
     "output_type": "stream",
     "text": [
      "<class 'pandas.core.frame.DataFrame'>\n",
      "RangeIndex: 1054159 entries, 0 to 1054158\n",
      "Data columns (total 14 columns):\n",
      " #   Column            Non-Null Count    Dtype         \n",
      "---  ------            --------------    -----         \n",
      " 0   Serial Number     1054159 non-null  object        \n",
      " 1   List Year         1054159 non-null  object        \n",
      " 2   Date Recorded     1054157 non-null  datetime64[ns]\n",
      " 3   Town              1054159 non-null  object        \n",
      " 4   Address           1054108 non-null  object        \n",
      " 5   Assessed Value    1054159 non-null  float64       \n",
      " 6   Sale Amount       1054159 non-null  float64       \n",
      " 7   Sales Ratio       1054159 non-null  float64       \n",
      " 8   Property Type     671713 non-null   object        \n",
      " 9   Residential Type  660275 non-null   object        \n",
      " 10  Non Use Code      302242 non-null   object        \n",
      " 11  Assessor Remarks  161472 non-null   object        \n",
      " 12  OPM remarks       11564 non-null    object        \n",
      " 13  Location          254643 non-null   object        \n",
      "dtypes: datetime64[ns](1), float64(3), object(10)\n",
      "memory usage: 112.6+ MB\n"
     ]
    }
   ],
   "source": [
    "df.info()"
   ]
  },
  {
   "cell_type": "markdown",
   "id": "a90aaaaf-7797-4575-9c62-923c495e900e",
   "metadata": {},
   "source": [
    "Finally, let's sort our rows by the 'Date Recorded'"
   ]
  },
  {
   "cell_type": "code",
   "execution_count": 12,
   "id": "d6d93b50-48ab-4a46-8741-1c9038e3fd5a",
   "metadata": {},
   "outputs": [
    {
     "data": {
      "text/html": [
       "<div>\n",
       "<style scoped>\n",
       "    .dataframe tbody tr th:only-of-type {\n",
       "        vertical-align: middle;\n",
       "    }\n",
       "\n",
       "    .dataframe tbody tr th {\n",
       "        vertical-align: top;\n",
       "    }\n",
       "\n",
       "    .dataframe thead th {\n",
       "        text-align: right;\n",
       "    }\n",
       "</style>\n",
       "<table border=\"1\" class=\"dataframe\">\n",
       "  <thead>\n",
       "    <tr style=\"text-align: right;\">\n",
       "      <th></th>\n",
       "      <th>Serial Number</th>\n",
       "      <th>List Year</th>\n",
       "      <th>Date Recorded</th>\n",
       "      <th>Town</th>\n",
       "      <th>Address</th>\n",
       "      <th>Assessed Value</th>\n",
       "      <th>Sale Amount</th>\n",
       "      <th>Sales Ratio</th>\n",
       "      <th>Property Type</th>\n",
       "      <th>Residential Type</th>\n",
       "      <th>Non Use Code</th>\n",
       "      <th>Assessor Remarks</th>\n",
       "      <th>OPM remarks</th>\n",
       "      <th>Location</th>\n",
       "    </tr>\n",
       "  </thead>\n",
       "  <tbody>\n",
       "    <tr>\n",
       "      <th>914857</th>\n",
       "      <td>170177</td>\n",
       "      <td>2017</td>\n",
       "      <td>1999-04-05</td>\n",
       "      <td>New London</td>\n",
       "      <td>184 PEQUOT AVE 309</td>\n",
       "      <td>46690.0</td>\n",
       "      <td>95000.0</td>\n",
       "      <td>0.491400</td>\n",
       "      <td>Condo</td>\n",
       "      <td>Condo</td>\n",
       "      <td>NaN</td>\n",
       "      <td>NaN</td>\n",
       "      <td>NaN</td>\n",
       "      <td>NaN</td>\n",
       "    </tr>\n",
       "    <tr>\n",
       "      <th>935392</th>\n",
       "      <td>173165</td>\n",
       "      <td>2017</td>\n",
       "      <td>2001-08-01</td>\n",
       "      <td>Shelton</td>\n",
       "      <td>19 BLACKBERRY LA</td>\n",
       "      <td>390810.0</td>\n",
       "      <td>635000.0</td>\n",
       "      <td>0.615449</td>\n",
       "      <td>Single Family</td>\n",
       "      <td>Single Family</td>\n",
       "      <td>NaN</td>\n",
       "      <td>NaN</td>\n",
       "      <td>NaN</td>\n",
       "      <td>NaN</td>\n",
       "    </tr>\n",
       "    <tr>\n",
       "      <th>939157</th>\n",
       "      <td>173202</td>\n",
       "      <td>2017</td>\n",
       "      <td>2001-08-23</td>\n",
       "      <td>Shelton</td>\n",
       "      <td>12 BOYSENBERRY LA</td>\n",
       "      <td>427910.0</td>\n",
       "      <td>558000.0</td>\n",
       "      <td>0.766864</td>\n",
       "      <td>Single Family</td>\n",
       "      <td>Single Family</td>\n",
       "      <td>NaN</td>\n",
       "      <td>NaN</td>\n",
       "      <td>NaN</td>\n",
       "      <td>NaN</td>\n",
       "    </tr>\n",
       "    <tr>\n",
       "      <th>446646</th>\n",
       "      <td>60626</td>\n",
       "      <td>2006</td>\n",
       "      <td>2001-09-04</td>\n",
       "      <td>Newington</td>\n",
       "      <td>110 MOYLAN CT</td>\n",
       "      <td>64750.0</td>\n",
       "      <td>88000.0</td>\n",
       "      <td>0.735795</td>\n",
       "      <td>Condo</td>\n",
       "      <td>Condo</td>\n",
       "      <td>NaN</td>\n",
       "      <td>NaN</td>\n",
       "      <td>NaN</td>\n",
       "      <td>POINT (-72.72554 41.7149)</td>\n",
       "    </tr>\n",
       "    <tr>\n",
       "      <th>487150</th>\n",
       "      <td>60631</td>\n",
       "      <td>2006</td>\n",
       "      <td>2001-09-05</td>\n",
       "      <td>Newington</td>\n",
       "      <td>48 EVERGREEN RD</td>\n",
       "      <td>166110.0</td>\n",
       "      <td>256000.0</td>\n",
       "      <td>0.648867</td>\n",
       "      <td>Single Family</td>\n",
       "      <td>Single Family</td>\n",
       "      <td>NaN</td>\n",
       "      <td>NaN</td>\n",
       "      <td>NaN</td>\n",
       "      <td>NaN</td>\n",
       "    </tr>\n",
       "  </tbody>\n",
       "</table>\n",
       "</div>"
      ],
      "text/plain": [
       "       Serial Number List Year Date Recorded        Town             Address  \\\n",
       "914857        170177      2017    1999-04-05  New London  184 PEQUOT AVE 309   \n",
       "935392        173165      2017    2001-08-01     Shelton    19 BLACKBERRY LA   \n",
       "939157        173202      2017    2001-08-23     Shelton   12 BOYSENBERRY LA   \n",
       "446646         60626      2006    2001-09-04   Newington       110 MOYLAN CT   \n",
       "487150         60631      2006    2001-09-05   Newington     48 EVERGREEN RD   \n",
       "\n",
       "        Assessed Value  Sale Amount  Sales Ratio  Property Type  \\\n",
       "914857         46690.0      95000.0     0.491400          Condo   \n",
       "935392        390810.0     635000.0     0.615449  Single Family   \n",
       "939157        427910.0     558000.0     0.766864  Single Family   \n",
       "446646         64750.0      88000.0     0.735795          Condo   \n",
       "487150        166110.0     256000.0     0.648867  Single Family   \n",
       "\n",
       "       Residential Type Non Use Code Assessor Remarks OPM remarks  \\\n",
       "914857            Condo          NaN              NaN         NaN   \n",
       "935392    Single Family          NaN              NaN         NaN   \n",
       "939157    Single Family          NaN              NaN         NaN   \n",
       "446646            Condo          NaN              NaN         NaN   \n",
       "487150    Single Family          NaN              NaN         NaN   \n",
       "\n",
       "                         Location  \n",
       "914857                        NaN  \n",
       "935392                        NaN  \n",
       "939157                        NaN  \n",
       "446646  POINT (-72.72554 41.7149)  \n",
       "487150                        NaN  "
      ]
     },
     "metadata": {},
     "output_type": "display_data"
    },
    {
     "data": {
      "text/html": [
       "<div>\n",
       "<style scoped>\n",
       "    .dataframe tbody tr th:only-of-type {\n",
       "        vertical-align: middle;\n",
       "    }\n",
       "\n",
       "    .dataframe tbody tr th {\n",
       "        vertical-align: top;\n",
       "    }\n",
       "\n",
       "    .dataframe thead th {\n",
       "        text-align: right;\n",
       "    }\n",
       "</style>\n",
       "<table border=\"1\" class=\"dataframe\">\n",
       "  <thead>\n",
       "    <tr style=\"text-align: right;\">\n",
       "      <th></th>\n",
       "      <th>Serial Number</th>\n",
       "      <th>List Year</th>\n",
       "      <th>Date Recorded</th>\n",
       "      <th>Town</th>\n",
       "      <th>Address</th>\n",
       "      <th>Assessed Value</th>\n",
       "      <th>Sale Amount</th>\n",
       "      <th>Sales Ratio</th>\n",
       "      <th>Property Type</th>\n",
       "      <th>Residential Type</th>\n",
       "      <th>Non Use Code</th>\n",
       "      <th>Assessor Remarks</th>\n",
       "      <th>OPM remarks</th>\n",
       "      <th>Location</th>\n",
       "    </tr>\n",
       "  </thead>\n",
       "  <tbody>\n",
       "    <tr>\n",
       "      <th>106131</th>\n",
       "      <td>211017</td>\n",
       "      <td>2021</td>\n",
       "      <td>2022-09-30</td>\n",
       "      <td>Norwich</td>\n",
       "      <td>3 SABRINAS CT</td>\n",
       "      <td>31400.0</td>\n",
       "      <td>22500.0</td>\n",
       "      <td>1.395556</td>\n",
       "      <td>Vacant Land</td>\n",
       "      <td>NaN</td>\n",
       "      <td>25 - Other</td>\n",
       "      <td>NaN</td>\n",
       "      <td>MULTIPLE PARCEL SALE</td>\n",
       "      <td>POINT (-72.102260022 41.571026508)</td>\n",
       "    </tr>\n",
       "    <tr>\n",
       "      <th>117871</th>\n",
       "      <td>211322</td>\n",
       "      <td>2021</td>\n",
       "      <td>2022-09-30</td>\n",
       "      <td>West Hartford</td>\n",
       "      <td>47 WOOD POND ROAD</td>\n",
       "      <td>271408.0</td>\n",
       "      <td>700000.0</td>\n",
       "      <td>0.387700</td>\n",
       "      <td>Residential</td>\n",
       "      <td>Single Family</td>\n",
       "      <td>NaN</td>\n",
       "      <td>NaN</td>\n",
       "      <td>NaN</td>\n",
       "      <td>POINT (-72.762313994 41.732406012)</td>\n",
       "    </tr>\n",
       "    <tr>\n",
       "      <th>123649</th>\n",
       "      <td>211386</td>\n",
       "      <td>2021</td>\n",
       "      <td>2022-09-30</td>\n",
       "      <td>West Haven</td>\n",
       "      <td>68 HOOD TER</td>\n",
       "      <td>38500.0</td>\n",
       "      <td>375000.0</td>\n",
       "      <td>0.102600</td>\n",
       "      <td>Vacant Land</td>\n",
       "      <td>NaN</td>\n",
       "      <td>NaN</td>\n",
       "      <td>NaN</td>\n",
       "      <td>NaN</td>\n",
       "      <td>POINT (-72.962475639 41.270609423)</td>\n",
       "    </tr>\n",
       "    <tr>\n",
       "      <th>234863</th>\n",
       "      <td>20280</td>\n",
       "      <td>2002</td>\n",
       "      <td>NaT</td>\n",
       "      <td>Orange</td>\n",
       "      <td>NaN</td>\n",
       "      <td>0.0</td>\n",
       "      <td>0.0</td>\n",
       "      <td>0.000000</td>\n",
       "      <td>NaN</td>\n",
       "      <td>NaN</td>\n",
       "      <td>NaN</td>\n",
       "      <td>NaN</td>\n",
       "      <td>NaN</td>\n",
       "      <td>NaN</td>\n",
       "    </tr>\n",
       "    <tr>\n",
       "      <th>236356</th>\n",
       "      <td>0</td>\n",
       "      <td>2002</td>\n",
       "      <td>NaT</td>\n",
       "      <td>Orange</td>\n",
       "      <td>NaN</td>\n",
       "      <td>0.0</td>\n",
       "      <td>0.0</td>\n",
       "      <td>0.000000</td>\n",
       "      <td>NaN</td>\n",
       "      <td>NaN</td>\n",
       "      <td>NaN</td>\n",
       "      <td>NaN</td>\n",
       "      <td>NaN</td>\n",
       "      <td>NaN</td>\n",
       "    </tr>\n",
       "  </tbody>\n",
       "</table>\n",
       "</div>"
      ],
      "text/plain": [
       "       Serial Number List Year Date Recorded           Town  \\\n",
       "106131        211017      2021    2022-09-30        Norwich   \n",
       "117871        211322      2021    2022-09-30  West Hartford   \n",
       "123649        211386      2021    2022-09-30     West Haven   \n",
       "234863         20280      2002           NaT         Orange   \n",
       "236356             0      2002           NaT         Orange   \n",
       "\n",
       "                  Address  Assessed Value  Sale Amount  Sales Ratio  \\\n",
       "106131      3 SABRINAS CT         31400.0      22500.0     1.395556   \n",
       "117871  47 WOOD POND ROAD        271408.0     700000.0     0.387700   \n",
       "123649        68 HOOD TER         38500.0     375000.0     0.102600   \n",
       "234863                NaN             0.0          0.0     0.000000   \n",
       "236356                NaN             0.0          0.0     0.000000   \n",
       "\n",
       "       Property Type Residential Type Non Use Code Assessor Remarks  \\\n",
       "106131   Vacant Land              NaN   25 - Other              NaN   \n",
       "117871   Residential    Single Family          NaN              NaN   \n",
       "123649   Vacant Land              NaN          NaN              NaN   \n",
       "234863           NaN              NaN          NaN              NaN   \n",
       "236356           NaN              NaN          NaN              NaN   \n",
       "\n",
       "                 OPM remarks                            Location  \n",
       "106131  MULTIPLE PARCEL SALE  POINT (-72.102260022 41.571026508)  \n",
       "117871                   NaN  POINT (-72.762313994 41.732406012)  \n",
       "123649                   NaN  POINT (-72.962475639 41.270609423)  \n",
       "234863                   NaN                                 NaN  \n",
       "236356                   NaN                                 NaN  "
      ]
     },
     "metadata": {},
     "output_type": "display_data"
    }
   ],
   "source": [
    "sorted_df = df.sort_values(by='Date Recorded')\n",
    "display(sorted_df.head())\n",
    "display(sorted_df.tail())"
   ]
  },
  {
   "cell_type": "markdown",
   "id": "81b0dc3c-5d02-4dd8-bd60-96ee2a4f28c6",
   "metadata": {},
   "source": [
    "These transformations are enough for now as far as datatypes. Let's move on to cleaning our data. "
   ]
  },
  {
   "cell_type": "markdown",
   "id": "9762d15b-1b6d-4cc8-8e80-66ac487932c4",
   "metadata": {},
   "source": [
    "### Cleaning Data:"
   ]
  },
  {
   "cell_type": "markdown",
   "id": "d7e927ea-8e1d-47a6-9a63-68ed68ad0f5f",
   "metadata": {},
   "source": [
    "Determining the ratio of nulls in the data frame for each column. The columns 'OPM remarks', 'Assessor Remarks', 'Location', and 'Non Use Code' are missing over 70% of the entries. These columns will be dropped."
   ]
  },
  {
   "cell_type": "code",
   "execution_count": 13,
   "id": "d8309e63-4012-4a62-a0dc-04b97b9fe6bd",
   "metadata": {},
   "outputs": [
    {
     "data": {
      "text/plain": [
       "Serial Number        0.000000\n",
       "List Year            0.000000\n",
       "Date Recorded        0.000190\n",
       "Town                 0.000000\n",
       "Address              0.004838\n",
       "Assessed Value       0.000000\n",
       "Sale Amount          0.000000\n",
       "Sales Ratio          0.000000\n",
       "Property Type       36.279726\n",
       "Residential Type    37.364762\n",
       "Non Use Code        71.328614\n",
       "Assessor Remarks    84.682387\n",
       "OPM remarks         98.903012\n",
       "Location            75.843967\n",
       "dtype: float64"
      ]
     },
     "execution_count": 13,
     "metadata": {},
     "output_type": "execute_result"
    }
   ],
   "source": [
    "df.isna().sum()/len(df.index) * 100"
   ]
  },
  {
   "cell_type": "markdown",
   "id": "40dd334c-1a7e-4b80-bbde-c885837a36cd",
   "metadata": {},
   "source": [
    "#### Dropping features with a lot of missing values:"
   ]
  },
  {
   "cell_type": "code",
   "execution_count": 14,
   "id": "79456e5e-e28b-487e-9cd2-da776e65e059",
   "metadata": {},
   "outputs": [],
   "source": [
    "df.drop(['OPM remarks', 'Location', 'Assessor Remarks', 'Non Use Code'], axis=1, inplace=True)"
   ]
  },
  {
   "cell_type": "code",
   "execution_count": 15,
   "id": "ae606f79-0c04-4238-b394-51d9db3a7706",
   "metadata": {},
   "outputs": [
    {
     "name": "stdout",
     "output_type": "stream",
     "text": [
      "<class 'pandas.core.frame.DataFrame'>\n",
      "RangeIndex: 1054159 entries, 0 to 1054158\n",
      "Data columns (total 10 columns):\n",
      " #   Column            Non-Null Count    Dtype         \n",
      "---  ------            --------------    -----         \n",
      " 0   Serial Number     1054159 non-null  object        \n",
      " 1   List Year         1054159 non-null  object        \n",
      " 2   Date Recorded     1054157 non-null  datetime64[ns]\n",
      " 3   Town              1054159 non-null  object        \n",
      " 4   Address           1054108 non-null  object        \n",
      " 5   Assessed Value    1054159 non-null  float64       \n",
      " 6   Sale Amount       1054159 non-null  float64       \n",
      " 7   Sales Ratio       1054159 non-null  float64       \n",
      " 8   Property Type     671713 non-null   object        \n",
      " 9   Residential Type  660275 non-null   object        \n",
      "dtypes: datetime64[ns](1), float64(3), object(6)\n",
      "memory usage: 80.4+ MB\n"
     ]
    }
   ],
   "source": [
    "df.info()"
   ]
  },
  {
   "cell_type": "markdown",
   "id": "6d665f44-5793-482e-9758-a44a4f742dab",
   "metadata": {},
   "source": [
    "#### Checking for nulls and duplicate data"
   ]
  },
  {
   "cell_type": "code",
   "execution_count": 16,
   "id": "7d7f79f8-dc55-42c6-8653-cc93020566f6",
   "metadata": {},
   "outputs": [
    {
     "data": {
      "text/plain": [
       "Serial Number            0\n",
       "List Year                0\n",
       "Date Recorded            2\n",
       "Town                     0\n",
       "Address                 51\n",
       "Assessed Value           0\n",
       "Sale Amount              0\n",
       "Sales Ratio              0\n",
       "Property Type       382446\n",
       "Residential Type    393884\n",
       "dtype: int64"
      ]
     },
     "execution_count": 16,
     "metadata": {},
     "output_type": "execute_result"
    }
   ],
   "source": [
    "df.isna().sum()"
   ]
  },
  {
   "cell_type": "code",
   "execution_count": 17,
   "id": "7135b9e4-d7c6-414b-985f-0f683084ce24",
   "metadata": {},
   "outputs": [
    {
     "data": {
      "text/plain": [
       "Serial Number       0.000000\n",
       "List Year           0.000000\n",
       "Date Recorded       0.000002\n",
       "Town                0.000000\n",
       "Address             0.000048\n",
       "Assessed Value      0.000000\n",
       "Sale Amount         0.000000\n",
       "Sales Ratio         0.000000\n",
       "Property Type       0.362797\n",
       "Residential Type    0.373648\n",
       "dtype: float64"
      ]
     },
     "execution_count": 17,
     "metadata": {},
     "output_type": "execute_result"
    }
   ],
   "source": [
    "df.isna().mean()"
   ]
  },
  {
   "cell_type": "markdown",
   "id": "4fc7d50a-1716-494a-a4f9-37d1aa8c608e",
   "metadata": {},
   "source": [
    "#### Columns: 'Date Recorded' and 'Address'\n",
    "**Dtype:** Object <br>\n",
    "**Approach:** Row Drop"
   ]
  },
  {
   "cell_type": "markdown",
   "id": "c0c10962-1875-4eff-9b20-628ba8f68edc",
   "metadata": {},
   "source": [
    "Looking at the missing values for 'Date Recorded' and 'Address', we see that missing values in this column are also missing values in other columns, some of which are really important. The combined missing values for both of these rows (2, 51 respectively) are less 60 rows. We will drop these using a custom function that automates the process."
   ]
  },
  {
   "cell_type": "code",
   "execution_count": 18,
   "id": "7114b70a-ec8f-4e41-9f1d-e82000a6409c",
   "metadata": {},
   "outputs": [],
   "source": [
    "date_and_address = ['Date Recorded', 'Address']\n",
    "\n",
    "def drop_na(df, cols):\n",
    "    '''\n",
    "    Previews and drops na values \n",
    "\n",
    "    Inputs: \n",
    "    data = dataframe \n",
    "    col = column or list of columns in the dataframe of interest\n",
    "\n",
    "    Outputs: \n",
    "    A peep of rows with missing values\n",
    "    Drops na\n",
    "    Sum of deleted rows \n",
    "    \n",
    "    '''\n",
    "    \n",
    "    sum_list = []\n",
    "    \n",
    "    for col in cols:\n",
    "        na_sum = df[col].isna().sum()\n",
    "        sum_list.append(na_sum)\n",
    "        print('-------------------------------------------------------------------------------------------------------------------------------------------')\n",
    "        print(f'The number of empty rows for the {col} column is {na_sum}. Here are the rows:\\n')\n",
    "        display(df[df[col].isna()].head(3))\n",
    "        df.dropna(subset=[col], inplace=True)\n",
    "        \n",
    "        sumL = sum(sum_list)\n",
    "    print(f'In total {sumL} were succesfully dropped from the dataframe') "
   ]
  },
  {
   "cell_type": "code",
   "execution_count": 19,
   "id": "153b777d-2927-4fbc-b4a8-c706aaea97e6",
   "metadata": {},
   "outputs": [
    {
     "name": "stdout",
     "output_type": "stream",
     "text": [
      "-------------------------------------------------------------------------------------------------------------------------------------------\n",
      "The number of empty rows for the Date Recorded column is 2. Here are the rows:\n",
      "\n"
     ]
    },
    {
     "data": {
      "text/html": [
       "<div>\n",
       "<style scoped>\n",
       "    .dataframe tbody tr th:only-of-type {\n",
       "        vertical-align: middle;\n",
       "    }\n",
       "\n",
       "    .dataframe tbody tr th {\n",
       "        vertical-align: top;\n",
       "    }\n",
       "\n",
       "    .dataframe thead th {\n",
       "        text-align: right;\n",
       "    }\n",
       "</style>\n",
       "<table border=\"1\" class=\"dataframe\">\n",
       "  <thead>\n",
       "    <tr style=\"text-align: right;\">\n",
       "      <th></th>\n",
       "      <th>Serial Number</th>\n",
       "      <th>List Year</th>\n",
       "      <th>Date Recorded</th>\n",
       "      <th>Town</th>\n",
       "      <th>Address</th>\n",
       "      <th>Assessed Value</th>\n",
       "      <th>Sale Amount</th>\n",
       "      <th>Sales Ratio</th>\n",
       "      <th>Property Type</th>\n",
       "      <th>Residential Type</th>\n",
       "      <th>Non Use Code</th>\n",
       "      <th>Assessor Remarks</th>\n",
       "      <th>OPM remarks</th>\n",
       "      <th>Location</th>\n",
       "    </tr>\n",
       "  </thead>\n",
       "  <tbody>\n",
       "    <tr>\n",
       "      <th>234863</th>\n",
       "      <td>20280</td>\n",
       "      <td>2002</td>\n",
       "      <td>NaT</td>\n",
       "      <td>Orange</td>\n",
       "      <td>NaN</td>\n",
       "      <td>0.0</td>\n",
       "      <td>0.0</td>\n",
       "      <td>0.0</td>\n",
       "      <td>NaN</td>\n",
       "      <td>NaN</td>\n",
       "      <td>NaN</td>\n",
       "      <td>NaN</td>\n",
       "      <td>NaN</td>\n",
       "      <td>NaN</td>\n",
       "    </tr>\n",
       "    <tr>\n",
       "      <th>236356</th>\n",
       "      <td>0</td>\n",
       "      <td>2002</td>\n",
       "      <td>NaT</td>\n",
       "      <td>Orange</td>\n",
       "      <td>NaN</td>\n",
       "      <td>0.0</td>\n",
       "      <td>0.0</td>\n",
       "      <td>0.0</td>\n",
       "      <td>NaN</td>\n",
       "      <td>NaN</td>\n",
       "      <td>NaN</td>\n",
       "      <td>NaN</td>\n",
       "      <td>NaN</td>\n",
       "      <td>NaN</td>\n",
       "    </tr>\n",
       "  </tbody>\n",
       "</table>\n",
       "</div>"
      ],
      "text/plain": [
       "       Serial Number List Year Date Recorded    Town Address  Assessed Value  \\\n",
       "234863         20280      2002           NaT  Orange     NaN             0.0   \n",
       "236356             0      2002           NaT  Orange     NaN             0.0   \n",
       "\n",
       "        Sale Amount  Sales Ratio Property Type Residential Type Non Use Code  \\\n",
       "234863          0.0          0.0           NaN              NaN          NaN   \n",
       "236356          0.0          0.0           NaN              NaN          NaN   \n",
       "\n",
       "       Assessor Remarks OPM remarks Location  \n",
       "234863              NaN         NaN      NaN  \n",
       "236356              NaN         NaN      NaN  "
      ]
     },
     "metadata": {},
     "output_type": "display_data"
    },
    {
     "name": "stdout",
     "output_type": "stream",
     "text": [
      "-------------------------------------------------------------------------------------------------------------------------------------------\n",
      "The number of empty rows for the Address column is 49. Here are the rows:\n",
      "\n"
     ]
    },
    {
     "data": {
      "text/html": [
       "<div>\n",
       "<style scoped>\n",
       "    .dataframe tbody tr th:only-of-type {\n",
       "        vertical-align: middle;\n",
       "    }\n",
       "\n",
       "    .dataframe tbody tr th {\n",
       "        vertical-align: top;\n",
       "    }\n",
       "\n",
       "    .dataframe thead th {\n",
       "        text-align: right;\n",
       "    }\n",
       "</style>\n",
       "<table border=\"1\" class=\"dataframe\">\n",
       "  <thead>\n",
       "    <tr style=\"text-align: right;\">\n",
       "      <th></th>\n",
       "      <th>Serial Number</th>\n",
       "      <th>List Year</th>\n",
       "      <th>Date Recorded</th>\n",
       "      <th>Town</th>\n",
       "      <th>Address</th>\n",
       "      <th>Assessed Value</th>\n",
       "      <th>Sale Amount</th>\n",
       "      <th>Sales Ratio</th>\n",
       "      <th>Property Type</th>\n",
       "      <th>Residential Type</th>\n",
       "      <th>Non Use Code</th>\n",
       "      <th>Assessor Remarks</th>\n",
       "      <th>OPM remarks</th>\n",
       "      <th>Location</th>\n",
       "    </tr>\n",
       "  </thead>\n",
       "  <tbody>\n",
       "    <tr>\n",
       "      <th>149638</th>\n",
       "      <td>10640</td>\n",
       "      <td>2001</td>\n",
       "      <td>2001-12-19</td>\n",
       "      <td>Bridgeport</td>\n",
       "      <td>NaN</td>\n",
       "      <td>2106020.0</td>\n",
       "      <td>45000.0</td>\n",
       "      <td>46.800444</td>\n",
       "      <td>NaN</td>\n",
       "      <td>NaN</td>\n",
       "      <td>25.0</td>\n",
       "      <td>NaN</td>\n",
       "      <td>NaN</td>\n",
       "      <td>NaN</td>\n",
       "    </tr>\n",
       "    <tr>\n",
       "      <th>145969</th>\n",
       "      <td>10537</td>\n",
       "      <td>2001</td>\n",
       "      <td>2002-02-05</td>\n",
       "      <td>Hartford</td>\n",
       "      <td>NaN</td>\n",
       "      <td>0.0</td>\n",
       "      <td>120000.0</td>\n",
       "      <td>0.000000</td>\n",
       "      <td>NaN</td>\n",
       "      <td>NaN</td>\n",
       "      <td>16.0</td>\n",
       "      <td>NaN</td>\n",
       "      <td>NaN</td>\n",
       "      <td>NaN</td>\n",
       "    </tr>\n",
       "    <tr>\n",
       "      <th>263008</th>\n",
       "      <td>30125</td>\n",
       "      <td>2003</td>\n",
       "      <td>2003-11-10</td>\n",
       "      <td>New Milford</td>\n",
       "      <td>NaN</td>\n",
       "      <td>55090.0</td>\n",
       "      <td>400000.0</td>\n",
       "      <td>0.137725</td>\n",
       "      <td>NaN</td>\n",
       "      <td>NaN</td>\n",
       "      <td>7.0</td>\n",
       "      <td>NaN</td>\n",
       "      <td>NaN</td>\n",
       "      <td>POINT (-73.41375 41.57871)</td>\n",
       "    </tr>\n",
       "  </tbody>\n",
       "</table>\n",
       "</div>"
      ],
      "text/plain": [
       "       Serial Number List Year Date Recorded         Town Address  \\\n",
       "149638         10640      2001    2001-12-19   Bridgeport     NaN   \n",
       "145969         10537      2001    2002-02-05     Hartford     NaN   \n",
       "263008         30125      2003    2003-11-10  New Milford     NaN   \n",
       "\n",
       "        Assessed Value  Sale Amount  Sales Ratio Property Type  \\\n",
       "149638       2106020.0      45000.0    46.800444           NaN   \n",
       "145969             0.0     120000.0     0.000000           NaN   \n",
       "263008         55090.0     400000.0     0.137725           NaN   \n",
       "\n",
       "       Residential Type Non Use Code Assessor Remarks OPM remarks  \\\n",
       "149638              NaN         25.0              NaN         NaN   \n",
       "145969              NaN         16.0              NaN         NaN   \n",
       "263008              NaN          7.0              NaN         NaN   \n",
       "\n",
       "                          Location  \n",
       "149638                         NaN  \n",
       "145969                         NaN  \n",
       "263008  POINT (-73.41375 41.57871)  "
      ]
     },
     "metadata": {},
     "output_type": "display_data"
    },
    {
     "name": "stdout",
     "output_type": "stream",
     "text": [
      "In total 51 were succesfully dropped from the dataframe\n"
     ]
    }
   ],
   "source": [
    "drop_na(sorted_df, date_and_address)"
   ]
  },
  {
   "cell_type": "code",
   "execution_count": 20,
   "id": "d74b8498-bd48-41bc-869f-763eda1cb078",
   "metadata": {},
   "outputs": [
    {
     "data": {
      "text/plain": [
       "Serial Number             0\n",
       "List Year                 0\n",
       "Date Recorded             0\n",
       "Town                      0\n",
       "Address                   0\n",
       "Assessed Value            0\n",
       "Sale Amount               0\n",
       "Sales Ratio               0\n",
       "Property Type        382399\n",
       "Residential Type     393837\n",
       "Non Use Code         751914\n",
       "Assessor Remarks     892637\n",
       "OPM remarks         1042544\n",
       "Location             799470\n",
       "dtype: int64"
      ]
     },
     "execution_count": 20,
     "metadata": {},
     "output_type": "execute_result"
    }
   ],
   "source": [
    "sorted_df.isna().sum()"
   ]
  },
  {
   "cell_type": "code",
   "execution_count": 21,
   "id": "f79be210-65b6-4820-a507-9ac04df5691c",
   "metadata": {},
   "outputs": [
    {
     "name": "stdout",
     "output_type": "stream",
     "text": [
      "Help on function drop_na in module __main__:\n",
      "\n",
      "drop_na(df, cols)\n",
      "    Previews and drops na values \n",
      "    \n",
      "    Inputs: \n",
      "    data = dataframe \n",
      "    col = column or list of columns in the dataframe of interest\n",
      "    \n",
      "    Outputs: \n",
      "    A peep of rows with missing values\n",
      "    Drops na\n",
      "    Sum of deleted rows\n",
      "\n"
     ]
    }
   ],
   "source": [
    "help(drop_na)"
   ]
  },
  {
   "cell_type": "code",
   "execution_count": 22,
   "id": "4e447407-6ab5-4303-a77c-d86889937c2a",
   "metadata": {},
   "outputs": [],
   "source": [
    "\n",
    "# def drop_dups()\n"
   ]
  },
  {
   "cell_type": "code",
   "execution_count": null,
   "id": "3dac84d4-e009-4572-afc6-df8c8fccbb6a",
   "metadata": {},
   "outputs": [],
   "source": []
  },
  {
   "cell_type": "code",
   "execution_count": null,
   "id": "d7966ac8-4e2b-477a-a2c3-f9a277209de4",
   "metadata": {},
   "outputs": [],
   "source": []
  },
  {
   "cell_type": "markdown",
   "id": "b657c1f5-97e8-4d58-b8ba-c7b9d94563bb",
   "metadata": {},
   "source": [
    "We have officially discarded those data points with missing values for 'Address' and 'Date Recorded' and that concludes the cleaning process for these features. "
   ]
  },
  {
   "cell_type": "markdown",
   "id": "ed547f0a-4b38-4e34-8caa-97c72bc3f9a0",
   "metadata": {},
   "source": [
    "#### Columns: 'Property Type' and 'Residential Type'\n",
    "**Dtype:** Object <br>\n",
    "**Approach:** Mode Imputing"
   ]
  },
  {
   "cell_type": "markdown",
   "id": "df1ef53b-f9ad-4369-9c72-5dbad47018e3",
   "metadata": {},
   "source": [
    "We are missing quite a few values for 'Property Type' and 'Residential Type' so we can't simply drop these missing values at the risk of losing a lot of data. These features are of object type, so we can impute the missing values by the mode. "
   ]
  },
  {
   "cell_type": "code",
   "execution_count": 23,
   "id": "a297015a-993b-418f-9ed5-4b9c1e8042aa",
   "metadata": {},
   "outputs": [
    {
     "data": {
      "text/html": [
       "<div>\n",
       "<style scoped>\n",
       "    .dataframe tbody tr th:only-of-type {\n",
       "        vertical-align: middle;\n",
       "    }\n",
       "\n",
       "    .dataframe tbody tr th {\n",
       "        vertical-align: top;\n",
       "    }\n",
       "\n",
       "    .dataframe thead th {\n",
       "        text-align: right;\n",
       "    }\n",
       "</style>\n",
       "<table border=\"1\" class=\"dataframe\">\n",
       "  <thead>\n",
       "    <tr style=\"text-align: right;\">\n",
       "      <th></th>\n",
       "      <th>Serial Number</th>\n",
       "      <th>List Year</th>\n",
       "      <th>Date Recorded</th>\n",
       "      <th>Town</th>\n",
       "      <th>Address</th>\n",
       "      <th>Assessed Value</th>\n",
       "      <th>Sale Amount</th>\n",
       "      <th>Sales Ratio</th>\n",
       "      <th>Property Type</th>\n",
       "      <th>Residential Type</th>\n",
       "      <th>Non Use Code</th>\n",
       "      <th>Assessor Remarks</th>\n",
       "      <th>OPM remarks</th>\n",
       "      <th>Location</th>\n",
       "    </tr>\n",
       "  </thead>\n",
       "  <tbody>\n",
       "    <tr>\n",
       "      <th>914857</th>\n",
       "      <td>170177</td>\n",
       "      <td>2017</td>\n",
       "      <td>1999-04-05</td>\n",
       "      <td>New London</td>\n",
       "      <td>184 PEQUOT AVE 309</td>\n",
       "      <td>46690.0</td>\n",
       "      <td>95000.0</td>\n",
       "      <td>0.491400</td>\n",
       "      <td>Condo</td>\n",
       "      <td>Condo</td>\n",
       "      <td>NaN</td>\n",
       "      <td>NaN</td>\n",
       "      <td>NaN</td>\n",
       "      <td>NaN</td>\n",
       "    </tr>\n",
       "    <tr>\n",
       "      <th>935392</th>\n",
       "      <td>173165</td>\n",
       "      <td>2017</td>\n",
       "      <td>2001-08-01</td>\n",
       "      <td>Shelton</td>\n",
       "      <td>19 BLACKBERRY LA</td>\n",
       "      <td>390810.0</td>\n",
       "      <td>635000.0</td>\n",
       "      <td>0.615449</td>\n",
       "      <td>Single Family</td>\n",
       "      <td>Single Family</td>\n",
       "      <td>NaN</td>\n",
       "      <td>NaN</td>\n",
       "      <td>NaN</td>\n",
       "      <td>NaN</td>\n",
       "    </tr>\n",
       "    <tr>\n",
       "      <th>939157</th>\n",
       "      <td>173202</td>\n",
       "      <td>2017</td>\n",
       "      <td>2001-08-23</td>\n",
       "      <td>Shelton</td>\n",
       "      <td>12 BOYSENBERRY LA</td>\n",
       "      <td>427910.0</td>\n",
       "      <td>558000.0</td>\n",
       "      <td>0.766864</td>\n",
       "      <td>Single Family</td>\n",
       "      <td>Single Family</td>\n",
       "      <td>NaN</td>\n",
       "      <td>NaN</td>\n",
       "      <td>NaN</td>\n",
       "      <td>NaN</td>\n",
       "    </tr>\n",
       "    <tr>\n",
       "      <th>446646</th>\n",
       "      <td>60626</td>\n",
       "      <td>2006</td>\n",
       "      <td>2001-09-04</td>\n",
       "      <td>Newington</td>\n",
       "      <td>110 MOYLAN CT</td>\n",
       "      <td>64750.0</td>\n",
       "      <td>88000.0</td>\n",
       "      <td>0.735795</td>\n",
       "      <td>Condo</td>\n",
       "      <td>Condo</td>\n",
       "      <td>NaN</td>\n",
       "      <td>NaN</td>\n",
       "      <td>NaN</td>\n",
       "      <td>POINT (-72.72554 41.7149)</td>\n",
       "    </tr>\n",
       "    <tr>\n",
       "      <th>487150</th>\n",
       "      <td>60631</td>\n",
       "      <td>2006</td>\n",
       "      <td>2001-09-05</td>\n",
       "      <td>Newington</td>\n",
       "      <td>48 EVERGREEN RD</td>\n",
       "      <td>166110.0</td>\n",
       "      <td>256000.0</td>\n",
       "      <td>0.648867</td>\n",
       "      <td>Single Family</td>\n",
       "      <td>Single Family</td>\n",
       "      <td>NaN</td>\n",
       "      <td>NaN</td>\n",
       "      <td>NaN</td>\n",
       "      <td>NaN</td>\n",
       "    </tr>\n",
       "  </tbody>\n",
       "</table>\n",
       "</div>"
      ],
      "text/plain": [
       "       Serial Number List Year Date Recorded        Town             Address  \\\n",
       "914857        170177      2017    1999-04-05  New London  184 PEQUOT AVE 309   \n",
       "935392        173165      2017    2001-08-01     Shelton    19 BLACKBERRY LA   \n",
       "939157        173202      2017    2001-08-23     Shelton   12 BOYSENBERRY LA   \n",
       "446646         60626      2006    2001-09-04   Newington       110 MOYLAN CT   \n",
       "487150         60631      2006    2001-09-05   Newington     48 EVERGREEN RD   \n",
       "\n",
       "        Assessed Value  Sale Amount  Sales Ratio  Property Type  \\\n",
       "914857         46690.0      95000.0     0.491400          Condo   \n",
       "935392        390810.0     635000.0     0.615449  Single Family   \n",
       "939157        427910.0     558000.0     0.766864  Single Family   \n",
       "446646         64750.0      88000.0     0.735795          Condo   \n",
       "487150        166110.0     256000.0     0.648867  Single Family   \n",
       "\n",
       "       Residential Type Non Use Code Assessor Remarks OPM remarks  \\\n",
       "914857            Condo          NaN              NaN         NaN   \n",
       "935392    Single Family          NaN              NaN         NaN   \n",
       "939157    Single Family          NaN              NaN         NaN   \n",
       "446646            Condo          NaN              NaN         NaN   \n",
       "487150    Single Family          NaN              NaN         NaN   \n",
       "\n",
       "                         Location  \n",
       "914857                        NaN  \n",
       "935392                        NaN  \n",
       "939157                        NaN  \n",
       "446646  POINT (-72.72554 41.7149)  \n",
       "487150                        NaN  "
      ]
     },
     "execution_count": 23,
     "metadata": {},
     "output_type": "execute_result"
    }
   ],
   "source": [
    "sorted_df.head()"
   ]
  },
  {
   "cell_type": "code",
   "execution_count": null,
   "id": "0b017caa-35a0-42dc-ad82-7c85183e65ff",
   "metadata": {},
   "outputs": [],
   "source": []
  },
  {
   "cell_type": "code",
   "execution_count": null,
   "id": "963af862-a4a0-44f2-8457-cc33118cd55a",
   "metadata": {},
   "outputs": [],
   "source": []
  },
  {
   "cell_type": "code",
   "execution_count": 24,
   "id": "73d26c6f-a4fd-4ceb-a064-edd4e6792099",
   "metadata": {},
   "outputs": [
    {
     "data": {
      "text/plain": [
       "Property Type\n",
       "Single Family     401612\n",
       "Residential       112099\n",
       "Condo             105420\n",
       "Two Family         26408\n",
       "Three Family       12586\n",
       "Vacant Land         5746\n",
       "Commercial          4208\n",
       "Four Family         2150\n",
       "Apartments           943\n",
       "Industrial           533\n",
       "Public Utility         8\n",
       "Name: count, dtype: int64"
      ]
     },
     "execution_count": 24,
     "metadata": {},
     "output_type": "execute_result"
    }
   ],
   "source": [
    "df['Property Type'].value_counts()"
   ]
  },
  {
   "cell_type": "code",
   "execution_count": 25,
   "id": "3c6d056b-3d15-45ab-93a0-30c72b5f0fab",
   "metadata": {},
   "outputs": [],
   "source": [
    "def plot_unique_vals(data, col, title, x_label, y_label):\n",
    "    '''\n",
    "    Plots the unique values of each column. \n",
    "    Takes in data, col, title, x_label, and y_label as variables:\n",
    "\n",
    "    Inputs: \n",
    "    data = dataframe \n",
    "    col = column in the dataframe of interest\n",
    "    title = title of the plot\n",
    "    x_label = x axis label of the plot\n",
    "    y_label = y axis label of the plot \n",
    "\n",
    "    Outputs: \n",
    "    A bar plot of the unique values in column \n",
    "    \n",
    "    '''\n",
    "    fig = sns.barplot(data[col].value_counts(), orient='h').set_title(title)\n",
    "    # add additional title, xlabel and ylabel variables"
   ]
  },
  {
   "cell_type": "code",
   "execution_count": 26,
   "id": "02a2a4c0-a03e-4bd2-a18e-af0af76664a1",
   "metadata": {},
   "outputs": [
    {
     "data": {
      "image/png": "[encoded data removed]",
      "text/plain": [
       "<Figure size 640x480 with 1 Axes>"
      ]
     },
     "metadata": {},
     "output_type": "display_data"
    }
   ],
   "source": [
    "plot_unique_vals(df, 'Property Type', 'Property Type Distribution', 'Property Type', 'Count')"
   ]
  },
  {
   "cell_type": "code",
   "execution_count": 27,
   "id": "ae0bb351-b55a-42a7-a6c3-2b2c0ab954f5",
   "metadata": {},
   "outputs": [
    {
     "data": {
      "image/png": "[encoded data removed]",
      "text/plain": [
       "<Figure size 640x480 with 1 Axes>"
      ]
     },
     "metadata": {},
     "output_type": "display_data"
    }
   ],
   "source": [
    "plot_unique_vals(df, 'Residential Type', 'Residential Type Distribution', 'Residential Type', 'Count');"
   ]
  },
  {
   "cell_type": "code",
   "execution_count": 28,
   "id": "4522e4a6-0a4e-44b5-909c-4efce6af4b8c",
   "metadata": {},
   "outputs": [
    {
     "name": "stdout",
     "output_type": "stream",
     "text": [
      "<class 'pandas.core.frame.DataFrame'>\n",
      "RangeIndex: 1054159 entries, 0 to 1054158\n",
      "Data columns (total 10 columns):\n",
      " #   Column            Non-Null Count    Dtype         \n",
      "---  ------            --------------    -----         \n",
      " 0   Serial Number     1054159 non-null  object        \n",
      " 1   List Year         1054159 non-null  object        \n",
      " 2   Date Recorded     1054157 non-null  datetime64[ns]\n",
      " 3   Town              1054159 non-null  object        \n",
      " 4   Address           1054108 non-null  object        \n",
      " 5   Assessed Value    1054159 non-null  float64       \n",
      " 6   Sale Amount       1054159 non-null  float64       \n",
      " 7   Sales Ratio       1054159 non-null  float64       \n",
      " 8   Property Type     671713 non-null   object        \n",
      " 9   Residential Type  660275 non-null   object        \n",
      "dtypes: datetime64[ns](1), float64(3), object(6)\n",
      "memory usage: 80.4+ MB\n"
     ]
    }
   ],
   "source": [
    "df.info()"
   ]
  },
  {
   "cell_type": "code",
   "execution_count": null,
   "id": "550dd3c0-2698-4f64-9e16-1e018596d40a",
   "metadata": {},
   "outputs": [],
   "source": []
  }
 ],
 "metadata": {
  "kernelspec": {
   "display_name": "Python 3 (ipykernel)",
   "language": "python",
   "name": "python3"
  },
  "language_info": {
   "codemirror_mode": {
    "name": "ipython",
    "version": 3
   },
   "file_extension": ".py",
   "mimetype": "text/x-python",
   "name": "python",
   "nbconvert_exporter": "python",
   "pygments_lexer": "ipython3",
   "version": "3.11.6"
  }
 },
 "nbformat": 4,
 "nbformat_minor": 5
}
